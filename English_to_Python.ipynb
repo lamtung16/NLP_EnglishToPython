{
 "cells": [
  {
   "cell_type": "code",
   "execution_count": 1,
   "metadata": {},
   "outputs": [],
   "source": [
    "import torch\n",
    "import torch.nn as nn\n",
    "import torch.optim as optim\n",
    "import torchtext\n",
    "from torchtext.legacy.data import Field, BucketIterator, Iterator\n",
    "from torchtext.legacy import data\n",
    "import matplotlib.pyplot as plt\n",
    "import matplotlib.ticker as ticker\n",
    "import spacy\n",
    "import numpy as np\n",
    "import pandas as pd\n",
    "import random\n",
    "import math\n",
    "import time\n",
    "from tokenize import tokenize, untokenize\n",
    "import io\n",
    "import keyword\n",
    "import torch.nn.functional as F\n",
    "from tqdm import tqdm\n",
    "import pickle"
   ]
  },
  {
   "cell_type": "code",
   "execution_count": 2,
   "metadata": {},
   "outputs": [
    {
     "data": {
      "text/plain": [
       "<spacy.lang.en.English at 0x17705083e20>"
      ]
     },
     "execution_count": 2,
     "metadata": {},
     "output_type": "execute_result"
    }
   ],
   "source": [
    "spacy.load('en_core_web_sm')"
   ]
  },
  {
   "cell_type": "code",
   "execution_count": 3,
   "metadata": {},
   "outputs": [],
   "source": [
    "f = open(\"english_python_data.txt\", \"r\", encoding=\"utf8\")\n",
    "file_lines = f.readlines()"
   ]
  },
  {
   "cell_type": "code",
   "execution_count": 4,
   "metadata": {},
   "outputs": [],
   "source": [
    "dps = []\n",
    "dp = None\n",
    "for line in file_lines:\n",
    "  if line[0] == \"#\":\n",
    "    if dp:\n",
    "      dp['solution'] = ''.join(dp['solution'])\n",
    "      dps.append(dp)\n",
    "    dp = {\"question\": None, \"solution\": []}\n",
    "    dp['question'] = line[1:]\n",
    "  else:\n",
    "    dp[\"solution\"].append(line)"
   ]
  },
  {
   "cell_type": "markdown",
   "metadata": {},
   "source": [
    "Tokenizer"
   ]
  },
  {
   "cell_type": "code",
   "execution_count": 5,
   "metadata": {},
   "outputs": [],
   "source": [
    "def augment_tokenize_python_code(python_code_str, mask_factor=0.3):\n",
    "    var_dict = {}\n",
    "    skip_list = ['range', 'enumerate', 'print', 'ord', 'int', 'float', 'zip', 'char', 'list', 'dict', 'tuple', 'set', 'len', 'sum', 'min', 'max']\n",
    "    skip_list.extend(keyword.kwlist)\n",
    "\n",
    "    var_counter = 1\n",
    "    python_tokens = list(tokenize(io.BytesIO(python_code_str.encode('utf-8')).readline))\n",
    "    tokenized_output = []\n",
    "\n",
    "    for i in range(0, len(python_tokens)):\n",
    "      if python_tokens[i].type == 1 and python_tokens[i].string not in skip_list:\n",
    "        \n",
    "        if i>0 and python_tokens[i-1].string in ['def', '.', 'import', 'raise', 'except', 'class']: # avoid masking modules, functions and error literals\n",
    "          skip_list.append(python_tokens[i].string)\n",
    "          tokenized_output.append((python_tokens[i].type, python_tokens[i].string))\n",
    "        elif python_tokens[i].string in var_dict:  # if variable is already masked\n",
    "          tokenized_output.append((python_tokens[i].type, var_dict[python_tokens[i].string]))\n",
    "        elif random.uniform(0, 1) > 1-mask_factor: # randomly mask variables\n",
    "          var_dict[python_tokens[i].string] = 'var_' + str(var_counter)\n",
    "          var_counter+=1\n",
    "          tokenized_output.append((python_tokens[i].type, var_dict[python_tokens[i].string]))\n",
    "        else:\n",
    "          skip_list.append(python_tokens[i].string)\n",
    "          tokenized_output.append((python_tokens[i].type, python_tokens[i].string))\n",
    "      \n",
    "      else:\n",
    "        tokenized_output.append((python_tokens[i].type, python_tokens[i].string))\n",
    "    \n",
    "    return tokenized_output"
   ]
  },
  {
   "cell_type": "markdown",
   "metadata": {},
   "source": [
    "Building Train and Validation Dataset"
   ]
  },
  {
   "cell_type": "code",
   "execution_count": 6,
   "metadata": {},
   "outputs": [],
   "source": [
    "python_problems_df = pd.DataFrame(dps)"
   ]
  },
  {
   "cell_type": "code",
   "execution_count": 7,
   "metadata": {},
   "outputs": [],
   "source": [
    "np.random.seed(0)\n",
    "msk = np.random.rand(len(python_problems_df)) < 0.85 # Splitting data into 85% train and 15% validation\n",
    "\n",
    "train_df = python_problems_df[msk]\n",
    "val_df   = python_problems_df[~msk]"
   ]
  },
  {
   "cell_type": "markdown",
   "metadata": {},
   "source": [
    "Creating vocabulary using torchtext"
   ]
  },
  {
   "cell_type": "code",
   "execution_count": 8,
   "metadata": {},
   "outputs": [],
   "source": [
    "SEED = 1234\n",
    "\n",
    "random.seed(SEED)\n",
    "torch.manual_seed(SEED)\n",
    "torch.cuda.manual_seed(SEED)\n",
    "torch.backends.cudnn.deterministic = True"
   ]
  },
  {
   "cell_type": "code",
   "execution_count": 9,
   "metadata": {},
   "outputs": [
    {
     "name": "stderr",
     "output_type": "stream",
     "text": [
      "c:\\Users\\tln229\\Documents\\Codes\\VENV1\\.venv\\lib\\site-packages\\torchtext\\data\\utils.py:123: UserWarning: Spacy model \"en\" could not be loaded, trying \"en_core_web_sm\" instead\n",
      "  warnings.warn(f'Spacy model \"{language}\" could not be loaded, trying \"{OLD_MODEL_SHORTCUTS[language]}\" instead')\n"
     ]
    }
   ],
   "source": [
    "Input = data.Field(tokenize = 'spacy',init_token='', eos_token='', lower=True)\n",
    "Output = data.Field(tokenize = augment_tokenize_python_code, init_token='', eos_token='', lower=False)"
   ]
  },
  {
   "cell_type": "code",
   "execution_count": 10,
   "metadata": {},
   "outputs": [],
   "source": [
    "with open('Vocab/src_vocab.pkl', 'rb') as f:\n",
    "    Input.vocab = pickle.load(f)\n",
    "\n",
    "with open('Vocab/trg_vocab.pkl', 'rb') as f:\n",
    "    Output.vocab = pickle.load(f)"
   ]
  },
  {
   "cell_type": "code",
   "execution_count": 11,
   "metadata": {},
   "outputs": [],
   "source": [
    "fields = [('Input', Input),('Output', Output)]"
   ]
  },
  {
   "cell_type": "code",
   "execution_count": 12,
   "metadata": {},
   "outputs": [],
   "source": [
    "# train_example = []\n",
    "# val_example = []\n",
    "\n",
    "# train_expansion_factor = 100\n",
    "# for j in range(train_expansion_factor):\n",
    "#   for i in range(train_df.shape[0]):\n",
    "#       try:\n",
    "#           ex = data.Example.fromlist([train_df.question[i], train_df.solution[i]], fields)\n",
    "#           train_example.append(ex)\n",
    "#       except:\n",
    "#           pass\n",
    "\n",
    "# for i in range(val_df.shape[0]):\n",
    "#     try:\n",
    "#         ex = data.Example.fromlist([val_df.question[i], val_df.solution[i]], fields)\n",
    "#         val_example.append(ex)\n",
    "#     except:\n",
    "#         pass\n",
    "\n",
    "\n",
    "# train_data = data.Dataset(train_example, fields)\n",
    "# valid_data = data.Dataset(val_example, fields)\n",
    "\n",
    "\n",
    "# Input.build_vocab(train_data, min_freq = 0)\n",
    "# Output.build_vocab(train_data, min_freq = 0)\n",
    "\n",
    "\n",
    "# def save_vocab(vocab, path):\n",
    "#     import pickle\n",
    "#     output = open(path, 'wb')\n",
    "#     pickle.dump(vocab, output)\n",
    "#     output.close()\n",
    "\n",
    "\n",
    "# save_vocab(Input.vocab, \"Vocab/src_vocab.pkl\")\n",
    "# save_vocab(Output.vocab, \"Vocab/trg_vocab.pkl\")"
   ]
  },
  {
   "cell_type": "code",
   "execution_count": 13,
   "metadata": {},
   "outputs": [],
   "source": [
    "device = torch.device('cuda' if torch.cuda.is_available() else 'cpu')"
   ]
  },
  {
   "cell_type": "markdown",
   "metadata": {},
   "source": [
    "Transformer Architecture"
   ]
  },
  {
   "cell_type": "code",
   "execution_count": 14,
   "metadata": {},
   "outputs": [],
   "source": [
    "class PositionwiseFeedforwardLayer(nn.Module):\n",
    "    def __init__(self, hid_dim, pf_dim, dropout):\n",
    "        super().__init__()\n",
    "        self.fc_1    = nn.Linear(hid_dim, pf_dim)\n",
    "        self.fc_2    = nn.Linear(pf_dim, hid_dim)\n",
    "        self.dropout = nn.Dropout(dropout)\n",
    "        \n",
    "    def forward(self, x):\n",
    "        x = self.dropout(torch.relu(self.fc_1(x)))\n",
    "        x = self.fc_2(x)\n",
    "        return x"
   ]
  },
  {
   "cell_type": "code",
   "execution_count": 15,
   "metadata": {},
   "outputs": [],
   "source": [
    "class MultiHeadAttentionLayer(nn.Module):\n",
    "    def __init__(self, hid_dim, n_heads, dropout, device):\n",
    "        super().__init__()\n",
    "        \n",
    "        assert hid_dim % n_heads == 0\n",
    "        \n",
    "        self.hid_dim = hid_dim\n",
    "        self.n_heads = n_heads\n",
    "        self.head_dim = hid_dim // n_heads\n",
    "        \n",
    "        self.fc_q    = nn.Linear(hid_dim, hid_dim)\n",
    "        self.fc_k    = nn.Linear(hid_dim, hid_dim)\n",
    "        self.fc_v    = nn.Linear(hid_dim, hid_dim)\n",
    "        self.fc_o    = nn.Linear(hid_dim, hid_dim)\n",
    "        self.dropout = nn.Dropout(dropout)\n",
    "        self.scale   = torch.sqrt(torch.FloatTensor([self.head_dim])).to(device)\n",
    "        \n",
    "    def forward(self, query, key, value, mask = None):\n",
    "        \n",
    "        batch_size = query.shape[0]\n",
    "                \n",
    "        Q = self.fc_q(query)\n",
    "        K = self.fc_k(key)\n",
    "        V = self.fc_v(value)\n",
    "                \n",
    "        Q = Q.view(batch_size, -1, self.n_heads, self.head_dim).permute(0, 2, 1, 3)\n",
    "        K = K.view(batch_size, -1, self.n_heads, self.head_dim).permute(0, 2, 1, 3)\n",
    "        V = V.view(batch_size, -1, self.n_heads, self.head_dim).permute(0, 2, 1, 3)\n",
    "                \n",
    "        energy = torch.matmul(Q, K.permute(0, 1, 3, 2)) / self.scale\n",
    "        \n",
    "        if mask is not None:\n",
    "            energy = energy.masked_fill(mask == 0, -1e10)\n",
    "        \n",
    "        attention = torch.softmax(energy, dim = -1)        \n",
    "        x = torch.matmul(self.dropout(attention), V)\n",
    "        x = x.permute(0, 2, 1, 3).contiguous()\n",
    "        x = x.view(batch_size, -1, self.hid_dim)\n",
    "        x = self.fc_o(x)\n",
    "        \n",
    "        return x, attention"
   ]
  },
  {
   "cell_type": "code",
   "execution_count": 16,
   "metadata": {},
   "outputs": [],
   "source": [
    "class EncoderLayer(nn.Module):\n",
    "    def __init__(self, hid_dim, n_heads, pf_dim, dropout, device):\n",
    "        super().__init__()\n",
    "        \n",
    "        self.self_attn_layer_norm = nn.LayerNorm(hid_dim)\n",
    "        self.ff_layer_norm = nn.LayerNorm(hid_dim)\n",
    "        self.self_attention = MultiHeadAttentionLayer(hid_dim, n_heads, dropout, device)\n",
    "        self.positionwise_feedforward = PositionwiseFeedforwardLayer(hid_dim, pf_dim, dropout)\n",
    "        self.dropout = nn.Dropout(dropout)\n",
    "        \n",
    "    def forward(self, src, src_mask):\n",
    "        _src, _ = self.self_attention(src, src, src, src_mask)\n",
    "        src = self.self_attn_layer_norm(src + self.dropout(_src))\n",
    "        _src = self.positionwise_feedforward(src)\n",
    "        src = self.ff_layer_norm(src + self.dropout(_src))\n",
    "        \n",
    "        return src"
   ]
  },
  {
   "cell_type": "code",
   "execution_count": 17,
   "metadata": {},
   "outputs": [],
   "source": [
    "class Encoder(nn.Module):\n",
    "    def __init__(self, input_dim, hid_dim, n_layers, n_heads, pf_dim,dropout, device, max_length = 1000):\n",
    "        super().__init__()\n",
    "\n",
    "        self.device = device\n",
    "        \n",
    "        self.tok_embedding = nn.Embedding(input_dim, hid_dim)\n",
    "        self.pos_embedding = nn.Embedding(max_length, hid_dim)\n",
    "        self.layers        = nn.ModuleList([EncoderLayer(hid_dim, n_heads, pf_dim,dropout, device) for _ in range(n_layers)])\n",
    "        self.dropout       = nn.Dropout(dropout)\n",
    "        self.scale         = torch.sqrt(torch.FloatTensor([hid_dim])).to(device)\n",
    "        \n",
    "    def forward(self, src, src_mask):\n",
    "        batch_size = src.shape[0]\n",
    "        src_len = src.shape[1]\n",
    "\n",
    "        pos = torch.arange(0, src_len).unsqueeze(0).repeat(batch_size, 1).to(self.device)\n",
    "        src = self.dropout((self.tok_embedding(src) * self.scale) + self.pos_embedding(pos))\n",
    "        \n",
    "        for layer in self.layers:\n",
    "            src = layer(src, src_mask)\n",
    "            \n",
    "        return src"
   ]
  },
  {
   "cell_type": "code",
   "execution_count": 18,
   "metadata": {},
   "outputs": [],
   "source": [
    "class DecoderLayer(nn.Module):\n",
    "    def __init__(self, hid_dim, n_heads, pf_dim, dropout, device):\n",
    "        super().__init__()\n",
    "        \n",
    "        self.self_attn_layer_norm = nn.LayerNorm(hid_dim)\n",
    "        self.enc_attn_layer_norm = nn.LayerNorm(hid_dim)\n",
    "        self.ff_layer_norm = nn.LayerNorm(hid_dim)\n",
    "        self.self_attention = MultiHeadAttentionLayer(hid_dim, n_heads, dropout, device)\n",
    "        self.encoder_attention = MultiHeadAttentionLayer(hid_dim, n_heads, dropout, device)\n",
    "        self.positionwise_feedforward = PositionwiseFeedforwardLayer(hid_dim, pf_dim, dropout)\n",
    "        self.dropout = nn.Dropout(dropout)\n",
    "        \n",
    "    def forward(self, trg, enc_src, trg_mask, src_mask):\n",
    "        _trg, _         = self.self_attention(trg, trg, trg, trg_mask)\n",
    "        trg             = self.self_attn_layer_norm(trg + self.dropout(_trg))\n",
    "        _trg, attention = self.encoder_attention(trg, enc_src, enc_src, src_mask)\n",
    "        trg             = self.enc_attn_layer_norm(trg + self.dropout(_trg))\n",
    "        _trg            = self.positionwise_feedforward(trg)\n",
    "        trg             = self.ff_layer_norm(trg + self.dropout(_trg))\n",
    "        \n",
    "        return trg, attention"
   ]
  },
  {
   "cell_type": "code",
   "execution_count": 19,
   "metadata": {},
   "outputs": [],
   "source": [
    "class Decoder(nn.Module):\n",
    "    def __init__(self, output_dim, hid_dim, n_layers, n_heads, pf_dim, dropout, device,max_length = 10000):\n",
    "        super().__init__()\n",
    "        \n",
    "        self.device = device\n",
    "        self.tok_embedding = nn.Embedding(output_dim, hid_dim)\n",
    "        self.pos_embedding = nn.Embedding(max_length, hid_dim)\n",
    "        self.layers  = nn.ModuleList([DecoderLayer(hid_dim, n_heads, pf_dim, dropout, device)for _ in range(n_layers)])\n",
    "        self.fc_out  = nn.Linear(hid_dim, output_dim)\n",
    "        self.dropout = nn.Dropout(dropout)\n",
    "        self.scale   = torch.sqrt(torch.FloatTensor([hid_dim])).to(device)\n",
    "        \n",
    "    def forward(self, trg, enc_src, trg_mask, src_mask):\n",
    "                \n",
    "        batch_size = trg.shape[0]\n",
    "        trg_len = trg.shape[1]\n",
    "        pos = torch.arange(0, trg_len).unsqueeze(0).repeat(batch_size, 1).to(self.device)\n",
    "        trg = self.dropout((self.tok_embedding(trg) * self.scale) + self.pos_embedding(pos))\n",
    "\n",
    "        for layer in self.layers:\n",
    "            trg, attention = layer(trg, enc_src, trg_mask, src_mask)\n",
    "        \n",
    "        output = self.fc_out(trg)\n",
    "        return output, attention"
   ]
  },
  {
   "cell_type": "code",
   "execution_count": 20,
   "metadata": {},
   "outputs": [],
   "source": [
    "class Seq2Seq(nn.Module):\n",
    "    def __init__(self, encoder, decoder, src_pad_idx, trg_pad_idx, device):\n",
    "        super().__init__()\n",
    "        \n",
    "        self.encoder = encoder\n",
    "        self.decoder = decoder\n",
    "        self.src_pad_idx = src_pad_idx\n",
    "        self.trg_pad_idx = trg_pad_idx\n",
    "        self.device = device\n",
    "        \n",
    "    def make_src_mask(self, src):\n",
    "        src_mask = (src != self.src_pad_idx).unsqueeze(1).unsqueeze(2)\n",
    "        return src_mask\n",
    "    \n",
    "    def make_trg_mask(self, trg):\n",
    "        trg_pad_mask = (trg != self.trg_pad_idx).unsqueeze(1).unsqueeze(2)\n",
    "        trg_len = trg.shape[1]\n",
    "        trg_sub_mask = torch.tril(torch.ones((trg_len, trg_len), device = self.device)).bool()\n",
    "        trg_mask = trg_pad_mask & trg_sub_mask\n",
    "        \n",
    "        return trg_mask\n",
    "\n",
    "    def forward(self, src, trg):    \n",
    "        src_mask = self.make_src_mask(src)\n",
    "        trg_mask = self.make_trg_mask(trg)\n",
    "        enc_src  = self.encoder(src, src_mask)   \n",
    "        output, attention = self.decoder(trg, enc_src, trg_mask, src_mask)\n",
    "        \n",
    "        return output, attention"
   ]
  },
  {
   "cell_type": "markdown",
   "metadata": {},
   "source": [
    "Training Setup"
   ]
  },
  {
   "cell_type": "code",
   "execution_count": 21,
   "metadata": {},
   "outputs": [],
   "source": [
    "INPUT_DIM = len(Input.vocab)\n",
    "OUTPUT_DIM = len(Output.vocab)\n",
    "HID_DIM = 256\n",
    "ENC_LAYERS = 3\n",
    "DEC_LAYERS = 3\n",
    "ENC_HEADS = 16\n",
    "DEC_HEADS = 16\n",
    "ENC_PF_DIM = 512\n",
    "DEC_PF_DIM = 512\n",
    "ENC_DROPOUT = 0.1\n",
    "DEC_DROPOUT = 0.1\n",
    "\n",
    "enc = Encoder(INPUT_DIM, HID_DIM, ENC_LAYERS, ENC_HEADS, ENC_PF_DIM, ENC_DROPOUT, device)\n",
    "dec = Decoder(OUTPUT_DIM, HID_DIM, DEC_LAYERS, DEC_HEADS, DEC_PF_DIM, DEC_DROPOUT, device)"
   ]
  },
  {
   "cell_type": "code",
   "execution_count": 22,
   "metadata": {},
   "outputs": [],
   "source": [
    "SRC_PAD_IDX = Input.vocab.stoi[Input.pad_token]\n",
    "TRG_PAD_IDX = Output.vocab.stoi[Output.pad_token]\n",
    "\n",
    "model = Seq2Seq(enc, dec, SRC_PAD_IDX, TRG_PAD_IDX, device).to(device)"
   ]
  },
  {
   "cell_type": "code",
   "execution_count": 23,
   "metadata": {},
   "outputs": [
    {
     "name": "stdout",
     "output_type": "stream",
     "text": [
      "The model has 10,220,071 trainable parameters\n"
     ]
    }
   ],
   "source": [
    "def count_parameters(model):\n",
    "    return sum(p.numel() for p in model.parameters() if p.requires_grad)\n",
    "\n",
    "print(f'The model has {count_parameters(model):,} trainable parameters')"
   ]
  },
  {
   "cell_type": "code",
   "execution_count": 24,
   "metadata": {},
   "outputs": [],
   "source": [
    "def initialize_weights(m):\n",
    "    if hasattr(m, 'weight') and m.weight.dim() > 1:\n",
    "        nn.init.xavier_uniform_(m.weight.data)"
   ]
  },
  {
   "cell_type": "code",
   "execution_count": 25,
   "metadata": {},
   "outputs": [],
   "source": [
    "model.apply(initialize_weights);"
   ]
  },
  {
   "cell_type": "code",
   "execution_count": 26,
   "metadata": {},
   "outputs": [],
   "source": [
    "LEARNING_RATE = 0.001\n",
    "optimizer = torch.optim.Adam(model.parameters(), lr = LEARNING_RATE)"
   ]
  },
  {
   "cell_type": "code",
   "execution_count": 27,
   "metadata": {},
   "outputs": [],
   "source": [
    "class CrossEntropyLoss(nn.CrossEntropyLoss):\n",
    "    \"\"\"CrossEntropyLoss - with ability to recieve distrbution as targets, and optional label smoothing\"\"\"\n",
    "\n",
    "    def __init__(self, weight=None, ignore_index=-100, reduction='mean', smooth_eps=None, smooth_dist=None, from_logits=True):\n",
    "        super(CrossEntropyLoss, self).__init__(weight=weight, ignore_index=ignore_index, reduction=reduction)\n",
    "        self.smooth_eps = smooth_eps\n",
    "        self.smooth_dist = smooth_dist\n",
    "        self.from_logits = from_logits\n",
    "\n",
    "    def forward(self, input, target, smooth_dist=None):\n",
    "        if smooth_dist is None:\n",
    "            smooth_dist = self.smooth_dist\n",
    "        return cross_entropy(input, target, weight=self.weight, ignore_index=self.ignore_index, reduction=self.reduction, smooth_eps=self.smooth_eps, smooth_dist=smooth_dist, from_logits=self.from_logits)\n",
    "\n",
    "\n",
    "def cross_entropy(inputs, target, weight=None, ignore_index=-100, reduction='mean',\n",
    "                  smooth_eps=None, smooth_dist=None, from_logits=True):\n",
    "    \"\"\"cross entropy loss, with support for target distributions and label smoothing https://arxiv.org/abs/1512.00567\"\"\"\n",
    "    smooth_eps = smooth_eps or 0\n",
    "\n",
    "    if _is_long(target) and smooth_eps == 0:\n",
    "        if from_logits:\n",
    "            return F.cross_entropy(inputs, target, weight, ignore_index=ignore_index, reduction=reduction)\n",
    "        else:\n",
    "            return F.nll_loss(inputs, target, weight, ignore_index=ignore_index, reduction=reduction)\n",
    "\n",
    "    if from_logits:\n",
    "        lsm = F.log_softmax(inputs, dim=-1)\n",
    "    else:\n",
    "        lsm = inputs\n",
    "\n",
    "    masked_indices = None\n",
    "    num_classes = inputs.size(-1)\n",
    "\n",
    "    if _is_long(target) and ignore_index >= 0:\n",
    "        masked_indices = target.eq(ignore_index)\n",
    "\n",
    "    if smooth_eps > 0 and smooth_dist is not None:\n",
    "        if _is_long(target):\n",
    "            target = onehot(target, num_classes).type_as(inputs)\n",
    "        if smooth_dist.dim() < target.dim():\n",
    "            smooth_dist = smooth_dist.unsqueeze(0)\n",
    "        target.lerp_(smooth_dist, smooth_eps)\n",
    "\n",
    "    if weight is not None:\n",
    "        lsm = lsm * weight.unsqueeze(0)\n",
    "\n",
    "    if _is_long(target):\n",
    "        eps_sum = smooth_eps / num_classes\n",
    "        eps_nll = 1. - eps_sum - smooth_eps\n",
    "        likelihood = lsm.gather(dim=-1, index=target.unsqueeze(-1)).squeeze(-1)\n",
    "        loss = -(eps_nll * likelihood + eps_sum * lsm.sum(-1))\n",
    "    else:\n",
    "        loss = -(target * lsm).sum(-1)\n",
    "\n",
    "    if masked_indices is not None:\n",
    "        loss.masked_fill_(masked_indices, 0)\n",
    "\n",
    "    if reduction == 'sum':\n",
    "        loss = loss.sum()\n",
    "    elif reduction == 'mean':\n",
    "        if masked_indices is None:\n",
    "            loss = loss.mean()\n",
    "        else:\n",
    "            loss = loss.sum() / float(loss.size(0) - masked_indices.sum())\n",
    "\n",
    "    return loss\n",
    "\n",
    "\n",
    "def onehot(indexes, N=None, ignore_index=None):\n",
    "    if N is None:\n",
    "        N = indexes.max() + 1\n",
    "    sz = list(indexes.size())\n",
    "    output = indexes.new().byte().resize_(*sz, N).zero_()\n",
    "    output.scatter_(-1, indexes.unsqueeze(-1), 1)\n",
    "    if ignore_index is not None and ignore_index >= 0:\n",
    "        output.masked_fill_(indexes.eq(ignore_index).unsqueeze(-1), 0)\n",
    "    return output\n",
    "\n",
    "\n",
    "def _is_long(x):\n",
    "    if hasattr(x, 'data'):\n",
    "        x = x.data\n",
    "    return isinstance(x, torch.LongTensor) or isinstance(x, torch.cuda.LongTensor)"
   ]
  },
  {
   "cell_type": "code",
   "execution_count": 28,
   "metadata": {},
   "outputs": [],
   "source": [
    "def maskNLLLoss(inp, target, mask):\n",
    "    nTotal = mask.sum()\n",
    "    crossEntropy = CrossEntropyLoss(ignore_index = TRG_PAD_IDX, smooth_eps=0.20)\n",
    "    loss = crossEntropy(inp, target)\n",
    "    loss = loss.to(device)\n",
    "    return loss, nTotal.item()"
   ]
  },
  {
   "cell_type": "code",
   "execution_count": 29,
   "metadata": {},
   "outputs": [],
   "source": [
    "criterion = maskNLLLoss"
   ]
  },
  {
   "cell_type": "markdown",
   "metadata": {},
   "source": [
    "TRAINING"
   ]
  },
  {
   "cell_type": "code",
   "execution_count": 30,
   "metadata": {},
   "outputs": [],
   "source": [
    "def make_trg_mask(trg):\n",
    "        trg_pad_mask = (trg != TRG_PAD_IDX).unsqueeze(1).unsqueeze(2)\n",
    "        trg_len = trg.shape[1]\n",
    "        trg_sub_mask = torch.tril(torch.ones((trg_len, trg_len), device = device)).bool()\n",
    "        trg_mask = trg_pad_mask & trg_sub_mask\n",
    "        return trg_mask\n",
    "\n",
    "def train(model, iterator, optimizer, criterion, clip):\n",
    "    model.train()\n",
    "    n_totals = 0\n",
    "    print_losses = []\n",
    "    for i, batch in tqdm(enumerate(iterator), total=len(iterator)):\n",
    "        loss = 0\n",
    "        src = batch.Input.permute(1, 0)\n",
    "        trg = batch.Output.permute(1, 0)\n",
    "        trg_mask = make_trg_mask(trg)\n",
    "        optimizer.zero_grad()\n",
    "        output, _ = model(src, trg[:,:-1])\n",
    "        output_dim = output.shape[-1]\n",
    "        output = output.contiguous().view(-1, output_dim)\n",
    "        trg = trg[:,1:].contiguous().view(-1)   \n",
    "        mask_loss, nTotal = criterion(output, trg, trg_mask)\n",
    "        mask_loss.backward()\n",
    "        torch.nn.utils.clip_grad_norm_(model.parameters(), clip)\n",
    "        optimizer.step()\n",
    "        print_losses.append(mask_loss.item() * nTotal)\n",
    "        n_totals += nTotal\n",
    "    return sum(print_losses) / n_totals"
   ]
  },
  {
   "cell_type": "code",
   "execution_count": 31,
   "metadata": {},
   "outputs": [],
   "source": [
    "def evaluate(model, iterator, criterion):\n",
    "    model.eval()\n",
    "    n_totals = 0\n",
    "    print_losses = []\n",
    "    \n",
    "    with torch.no_grad():\n",
    "        for i, batch in tqdm(enumerate(iterator), total=len(iterator)):\n",
    "            src = batch.Input.permute(1, 0)\n",
    "            trg = batch.Output.permute(1, 0)\n",
    "            trg_mask = make_trg_mask(trg)\n",
    "            output, _ = model(src, trg[:,:-1])\n",
    "            output_dim = output.shape[-1]\n",
    "            output = output.contiguous().view(-1, output_dim)\n",
    "            trg = trg[:,1:].contiguous().view(-1)\n",
    "            mask_loss, nTotal = criterion(output, trg, trg_mask)\n",
    "            print_losses.append(mask_loss.item() * nTotal)\n",
    "            n_totals += nTotal\n",
    "    return sum(print_losses) / n_totals"
   ]
  },
  {
   "cell_type": "code",
   "execution_count": 32,
   "metadata": {},
   "outputs": [],
   "source": [
    "def epoch_time(start_time, end_time):\n",
    "    elapsed_time = end_time - start_time\n",
    "    elapsed_mins = int(elapsed_time / 60)\n",
    "    elapsed_secs = int(elapsed_time - (elapsed_mins * 60))\n",
    "    return elapsed_mins, elapsed_secs"
   ]
  },
  {
   "cell_type": "code",
   "execution_count": 33,
   "metadata": {},
   "outputs": [
    {
     "name": "stderr",
     "output_type": "stream",
     "text": [
      "100%|██████████| 222/222 [03:57<00:00,  1.07s/it]\n",
      "100%|██████████| 8/8 [00:02<00:00,  2.73it/s]\n"
     ]
    },
    {
     "name": "stdout",
     "output_type": "stream",
     "text": [
      "Epoch: 01 | Time: 4m 1s\n",
      "\tTrain Loss: 5.137\n",
      "\t Val. Loss: 4.417\n"
     ]
    },
    {
     "name": "stderr",
     "output_type": "stream",
     "text": [
      "100%|██████████| 222/222 [03:55<00:00,  1.06s/it]\n",
      "100%|██████████| 8/8 [00:02<00:00,  2.79it/s]\n"
     ]
    },
    {
     "name": "stdout",
     "output_type": "stream",
     "text": [
      "Epoch: 02 | Time: 3m 59s\n",
      "\tTrain Loss: 4.207\n",
      "\t Val. Loss: 4.169\n"
     ]
    },
    {
     "name": "stderr",
     "output_type": "stream",
     "text": [
      "100%|██████████| 222/222 [03:55<00:00,  1.06s/it]\n",
      "100%|██████████| 8/8 [00:02<00:00,  2.83it/s]\n"
     ]
    },
    {
     "name": "stdout",
     "output_type": "stream",
     "text": [
      "Epoch: 03 | Time: 4m 0s\n",
      "\tTrain Loss: 3.987\n",
      "\t Val. Loss: 4.052\n"
     ]
    },
    {
     "name": "stderr",
     "output_type": "stream",
     "text": [
      "100%|██████████| 222/222 [03:55<00:00,  1.06s/it]\n",
      "100%|██████████| 8/8 [00:02<00:00,  2.77it/s]\n"
     ]
    },
    {
     "name": "stdout",
     "output_type": "stream",
     "text": [
      "Epoch: 04 | Time: 4m 0s\n",
      "\tTrain Loss: 3.833\n",
      "\t Val. Loss: 4.005\n"
     ]
    },
    {
     "name": "stderr",
     "output_type": "stream",
     "text": [
      "100%|██████████| 222/222 [03:56<00:00,  1.07s/it]\n",
      "100%|██████████| 8/8 [00:02<00:00,  2.81it/s]\n"
     ]
    },
    {
     "name": "stdout",
     "output_type": "stream",
     "text": [
      "Epoch: 05 | Time: 4m 1s\n",
      "\tTrain Loss: 3.703\n",
      "\t Val. Loss: 3.877\n"
     ]
    },
    {
     "name": "stderr",
     "output_type": "stream",
     "text": [
      "100%|██████████| 222/222 [03:53<00:00,  1.05s/it]\n",
      "100%|██████████| 8/8 [00:02<00:00,  2.81it/s]\n"
     ]
    },
    {
     "name": "stdout",
     "output_type": "stream",
     "text": [
      "Epoch: 06 | Time: 3m 57s\n",
      "\tTrain Loss: 3.598\n",
      "\t Val. Loss: 3.836\n"
     ]
    },
    {
     "name": "stderr",
     "output_type": "stream",
     "text": [
      "100%|██████████| 222/222 [04:03<00:00,  1.10s/it]\n",
      "100%|██████████| 8/8 [00:02<00:00,  2.72it/s]\n"
     ]
    },
    {
     "name": "stdout",
     "output_type": "stream",
     "text": [
      "Epoch: 07 | Time: 4m 8s\n",
      "\tTrain Loss: 3.510\n",
      "\t Val. Loss: 3.789\n"
     ]
    },
    {
     "name": "stderr",
     "output_type": "stream",
     "text": [
      "100%|██████████| 222/222 [03:55<00:00,  1.06s/it]\n",
      "100%|██████████| 8/8 [00:02<00:00,  2.78it/s]\n"
     ]
    },
    {
     "name": "stdout",
     "output_type": "stream",
     "text": [
      "Epoch: 08 | Time: 3m 59s\n",
      "\tTrain Loss: 3.432\n",
      "\t Val. Loss: 3.752\n"
     ]
    },
    {
     "name": "stderr",
     "output_type": "stream",
     "text": [
      "100%|██████████| 222/222 [03:55<00:00,  1.06s/it]\n",
      "100%|██████████| 8/8 [00:02<00:00,  2.74it/s]\n"
     ]
    },
    {
     "name": "stdout",
     "output_type": "stream",
     "text": [
      "Epoch: 09 | Time: 3m 59s\n",
      "\tTrain Loss: 3.356\n",
      "\t Val. Loss: 3.702\n"
     ]
    },
    {
     "name": "stderr",
     "output_type": "stream",
     "text": [
      "100%|██████████| 222/222 [04:00<00:00,  1.08s/it]\n",
      "100%|██████████| 8/8 [00:02<00:00,  2.77it/s]\n"
     ]
    },
    {
     "name": "stdout",
     "output_type": "stream",
     "text": [
      "Epoch: 10 | Time: 4m 4s\n",
      "\tTrain Loss: 3.300\n",
      "\t Val. Loss: 3.668\n"
     ]
    },
    {
     "name": "stderr",
     "output_type": "stream",
     "text": [
      "100%|██████████| 222/222 [03:55<00:00,  1.06s/it]\n",
      "100%|██████████| 8/8 [00:02<00:00,  2.81it/s]\n"
     ]
    },
    {
     "name": "stdout",
     "output_type": "stream",
     "text": [
      "Epoch: 11 | Time: 4m 0s\n",
      "\tTrain Loss: 3.243\n",
      "\t Val. Loss: 3.650\n"
     ]
    },
    {
     "name": "stderr",
     "output_type": "stream",
     "text": [
      "100%|██████████| 222/222 [03:54<00:00,  1.06s/it]\n",
      "100%|██████████| 8/8 [00:02<00:00,  2.78it/s]\n"
     ]
    },
    {
     "name": "stdout",
     "output_type": "stream",
     "text": [
      "Epoch: 12 | Time: 3m 59s\n",
      "\tTrain Loss: 3.194\n",
      "\t Val. Loss: 3.604\n"
     ]
    },
    {
     "name": "stderr",
     "output_type": "stream",
     "text": [
      "100%|██████████| 222/222 [03:59<00:00,  1.08s/it]\n",
      "100%|██████████| 8/8 [00:02<00:00,  2.82it/s]\n"
     ]
    },
    {
     "name": "stdout",
     "output_type": "stream",
     "text": [
      "Epoch: 13 | Time: 4m 3s\n",
      "\tTrain Loss: 3.162\n",
      "\t Val. Loss: 3.631\n"
     ]
    },
    {
     "name": "stderr",
     "output_type": "stream",
     "text": [
      "100%|██████████| 222/222 [03:57<00:00,  1.07s/it]\n",
      "100%|██████████| 8/8 [00:02<00:00,  2.84it/s]\n"
     ]
    },
    {
     "name": "stdout",
     "output_type": "stream",
     "text": [
      "Epoch: 14 | Time: 4m 2s\n",
      "\tTrain Loss: 3.129\n",
      "\t Val. Loss: 3.616\n"
     ]
    },
    {
     "name": "stderr",
     "output_type": "stream",
     "text": [
      "100%|██████████| 222/222 [03:54<00:00,  1.06s/it]\n",
      "100%|██████████| 8/8 [00:02<00:00,  2.80it/s]\n"
     ]
    },
    {
     "name": "stdout",
     "output_type": "stream",
     "text": [
      "Epoch: 15 | Time: 3m 59s\n",
      "\tTrain Loss: 3.092\n",
      "\t Val. Loss: 3.601\n"
     ]
    },
    {
     "name": "stderr",
     "output_type": "stream",
     "text": [
      "100%|██████████| 222/222 [04:02<00:00,  1.09s/it]\n",
      "100%|██████████| 8/8 [00:02<00:00,  2.81it/s]\n"
     ]
    },
    {
     "name": "stdout",
     "output_type": "stream",
     "text": [
      "Epoch: 16 | Time: 4m 6s\n",
      "\tTrain Loss: 3.064\n",
      "\t Val. Loss: 3.619\n"
     ]
    },
    {
     "name": "stderr",
     "output_type": "stream",
     "text": [
      "100%|██████████| 222/222 [03:49<00:00,  1.03s/it]\n",
      "100%|██████████| 8/8 [00:02<00:00,  2.74it/s]\n"
     ]
    },
    {
     "name": "stdout",
     "output_type": "stream",
     "text": [
      "Epoch: 17 | Time: 3m 54s\n",
      "\tTrain Loss: 3.045\n",
      "\t Val. Loss: 3.594\n"
     ]
    },
    {
     "name": "stderr",
     "output_type": "stream",
     "text": [
      "100%|██████████| 222/222 [03:58<00:00,  1.07s/it]\n",
      "100%|██████████| 8/8 [00:02<00:00,  2.85it/s]\n"
     ]
    },
    {
     "name": "stdout",
     "output_type": "stream",
     "text": [
      "Epoch: 18 | Time: 4m 2s\n",
      "\tTrain Loss: 3.021\n",
      "\t Val. Loss: 3.598\n"
     ]
    },
    {
     "name": "stderr",
     "output_type": "stream",
     "text": [
      "100%|██████████| 222/222 [03:56<00:00,  1.06s/it]\n",
      "100%|██████████| 8/8 [00:02<00:00,  2.74it/s]\n"
     ]
    },
    {
     "name": "stdout",
     "output_type": "stream",
     "text": [
      "Epoch: 19 | Time: 4m 0s\n",
      "\tTrain Loss: 3.000\n",
      "\t Val. Loss: 3.536\n"
     ]
    },
    {
     "name": "stderr",
     "output_type": "stream",
     "text": [
      "100%|██████████| 222/222 [03:50<00:00,  1.04s/it]\n",
      "100%|██████████| 8/8 [00:02<00:00,  2.83it/s]\n"
     ]
    },
    {
     "name": "stdout",
     "output_type": "stream",
     "text": [
      "Epoch: 20 | Time: 3m 54s\n",
      "\tTrain Loss: 2.981\n",
      "\t Val. Loss: 3.566\n"
     ]
    },
    {
     "name": "stderr",
     "output_type": "stream",
     "text": [
      "100%|██████████| 222/222 [03:55<00:00,  1.06s/it]\n",
      "100%|██████████| 8/8 [00:02<00:00,  2.81it/s]\n"
     ]
    },
    {
     "name": "stdout",
     "output_type": "stream",
     "text": [
      "Epoch: 21 | Time: 3m 59s\n",
      "\tTrain Loss: 2.962\n",
      "\t Val. Loss: 3.592\n"
     ]
    },
    {
     "name": "stderr",
     "output_type": "stream",
     "text": [
      "100%|██████████| 222/222 [03:53<00:00,  1.05s/it]\n",
      "100%|██████████| 8/8 [00:02<00:00,  2.79it/s]\n"
     ]
    },
    {
     "name": "stdout",
     "output_type": "stream",
     "text": [
      "Epoch: 22 | Time: 3m 57s\n",
      "\tTrain Loss: 2.945\n",
      "\t Val. Loss: 3.539\n"
     ]
    },
    {
     "name": "stderr",
     "output_type": "stream",
     "text": [
      "100%|██████████| 222/222 [03:56<00:00,  1.07s/it]\n",
      "100%|██████████| 8/8 [00:02<00:00,  2.79it/s]\n"
     ]
    },
    {
     "name": "stdout",
     "output_type": "stream",
     "text": [
      "Epoch: 23 | Time: 4m 1s\n",
      "\tTrain Loss: 2.931\n",
      "\t Val. Loss: 3.533\n"
     ]
    },
    {
     "name": "stderr",
     "output_type": "stream",
     "text": [
      "100%|██████████| 222/222 [03:51<00:00,  1.04s/it]\n",
      "100%|██████████| 8/8 [00:02<00:00,  2.81it/s]\n"
     ]
    },
    {
     "name": "stdout",
     "output_type": "stream",
     "text": [
      "Epoch: 24 | Time: 3m 55s\n",
      "\tTrain Loss: 2.923\n",
      "\t Val. Loss: 3.521\n"
     ]
    },
    {
     "name": "stderr",
     "output_type": "stream",
     "text": [
      "100%|██████████| 222/222 [03:52<00:00,  1.05s/it]\n",
      "100%|██████████| 8/8 [00:02<00:00,  2.77it/s]\n"
     ]
    },
    {
     "name": "stdout",
     "output_type": "stream",
     "text": [
      "Epoch: 25 | Time: 3m 56s\n",
      "\tTrain Loss: 2.904\n",
      "\t Val. Loss: 3.584\n"
     ]
    },
    {
     "name": "stderr",
     "output_type": "stream",
     "text": [
      "100%|██████████| 222/222 [03:52<00:00,  1.05s/it]\n",
      "100%|██████████| 8/8 [00:02<00:00,  2.78it/s]\n"
     ]
    },
    {
     "name": "stdout",
     "output_type": "stream",
     "text": [
      "Epoch: 26 | Time: 3m 57s\n",
      "\tTrain Loss: 2.893\n",
      "\t Val. Loss: 3.519\n"
     ]
    },
    {
     "name": "stderr",
     "output_type": "stream",
     "text": [
      "100%|██████████| 222/222 [03:58<00:00,  1.08s/it]\n",
      "100%|██████████| 8/8 [00:02<00:00,  2.77it/s]\n"
     ]
    },
    {
     "name": "stdout",
     "output_type": "stream",
     "text": [
      "Epoch: 27 | Time: 4m 3s\n",
      "\tTrain Loss: 2.882\n",
      "\t Val. Loss: 3.526\n"
     ]
    },
    {
     "name": "stderr",
     "output_type": "stream",
     "text": [
      "100%|██████████| 222/222 [03:55<00:00,  1.06s/it]\n",
      "100%|██████████| 8/8 [00:02<00:00,  2.75it/s]\n"
     ]
    },
    {
     "name": "stdout",
     "output_type": "stream",
     "text": [
      "Epoch: 28 | Time: 4m 0s\n",
      "\tTrain Loss: 2.867\n",
      "\t Val. Loss: 3.548\n"
     ]
    },
    {
     "name": "stderr",
     "output_type": "stream",
     "text": [
      "100%|██████████| 222/222 [03:57<00:00,  1.07s/it]\n",
      "100%|██████████| 8/8 [00:02<00:00,  2.75it/s]\n"
     ]
    },
    {
     "name": "stdout",
     "output_type": "stream",
     "text": [
      "Epoch: 29 | Time: 4m 2s\n",
      "\tTrain Loss: 2.860\n",
      "\t Val. Loss: 3.547\n"
     ]
    },
    {
     "name": "stderr",
     "output_type": "stream",
     "text": [
      "100%|██████████| 222/222 [03:49<00:00,  1.03s/it]\n",
      "100%|██████████| 8/8 [00:02<00:00,  2.82it/s]\n"
     ]
    },
    {
     "name": "stdout",
     "output_type": "stream",
     "text": [
      "Epoch: 30 | Time: 3m 54s\n",
      "\tTrain Loss: 2.853\n",
      "\t Val. Loss: 3.517\n"
     ]
    },
    {
     "name": "stderr",
     "output_type": "stream",
     "text": [
      "100%|██████████| 222/222 [03:48<00:00,  1.03s/it]\n",
      "100%|██████████| 8/8 [00:02<00:00,  2.74it/s]\n"
     ]
    },
    {
     "name": "stdout",
     "output_type": "stream",
     "text": [
      "Epoch: 31 | Time: 3m 53s\n",
      "\tTrain Loss: 2.847\n",
      "\t Val. Loss: 3.501\n"
     ]
    },
    {
     "name": "stderr",
     "output_type": "stream",
     "text": [
      "100%|██████████| 222/222 [03:56<00:00,  1.06s/it]\n",
      "100%|██████████| 8/8 [00:02<00:00,  2.73it/s]\n"
     ]
    },
    {
     "name": "stdout",
     "output_type": "stream",
     "text": [
      "Epoch: 32 | Time: 4m 0s\n",
      "\tTrain Loss: 2.842\n",
      "\t Val. Loss: 3.495\n"
     ]
    },
    {
     "name": "stderr",
     "output_type": "stream",
     "text": [
      "100%|██████████| 222/222 [04:01<00:00,  1.09s/it]\n",
      "100%|██████████| 8/8 [00:02<00:00,  2.82it/s]\n"
     ]
    },
    {
     "name": "stdout",
     "output_type": "stream",
     "text": [
      "Epoch: 33 | Time: 4m 6s\n",
      "\tTrain Loss: 2.834\n",
      "\t Val. Loss: 3.537\n"
     ]
    },
    {
     "name": "stderr",
     "output_type": "stream",
     "text": [
      "100%|██████████| 222/222 [03:58<00:00,  1.07s/it]\n",
      "100%|██████████| 8/8 [00:02<00:00,  2.85it/s]\n"
     ]
    },
    {
     "name": "stdout",
     "output_type": "stream",
     "text": [
      "Epoch: 34 | Time: 4m 2s\n",
      "\tTrain Loss: 2.822\n",
      "\t Val. Loss: 3.551\n"
     ]
    },
    {
     "name": "stderr",
     "output_type": "stream",
     "text": [
      "100%|██████████| 222/222 [04:03<00:00,  1.10s/it]\n",
      "100%|██████████| 8/8 [00:02<00:00,  2.79it/s]\n"
     ]
    },
    {
     "name": "stdout",
     "output_type": "stream",
     "text": [
      "Epoch: 35 | Time: 4m 8s\n",
      "\tTrain Loss: 2.817\n",
      "\t Val. Loss: 3.509\n"
     ]
    },
    {
     "name": "stderr",
     "output_type": "stream",
     "text": [
      "100%|██████████| 222/222 [03:54<00:00,  1.06s/it]\n",
      "100%|██████████| 8/8 [00:02<00:00,  2.79it/s]\n"
     ]
    },
    {
     "name": "stdout",
     "output_type": "stream",
     "text": [
      "Epoch: 36 | Time: 3m 59s\n",
      "\tTrain Loss: 2.807\n",
      "\t Val. Loss: 3.541\n"
     ]
    },
    {
     "name": "stderr",
     "output_type": "stream",
     "text": [
      "100%|██████████| 222/222 [03:57<00:00,  1.07s/it]\n",
      "100%|██████████| 8/8 [00:02<00:00,  2.81it/s]\n"
     ]
    },
    {
     "name": "stdout",
     "output_type": "stream",
     "text": [
      "Epoch: 37 | Time: 4m 1s\n",
      "\tTrain Loss: 2.799\n",
      "\t Val. Loss: 3.501\n"
     ]
    },
    {
     "name": "stderr",
     "output_type": "stream",
     "text": [
      "100%|██████████| 222/222 [03:49<00:00,  1.03s/it]\n",
      "100%|██████████| 8/8 [00:02<00:00,  2.84it/s]\n"
     ]
    },
    {
     "name": "stdout",
     "output_type": "stream",
     "text": [
      "Epoch: 38 | Time: 3m 53s\n",
      "\tTrain Loss: 2.793\n",
      "\t Val. Loss: 3.537\n"
     ]
    },
    {
     "name": "stderr",
     "output_type": "stream",
     "text": [
      "100%|██████████| 222/222 [03:48<00:00,  1.03s/it]\n",
      "100%|██████████| 8/8 [00:02<00:00,  2.83it/s]\n"
     ]
    },
    {
     "name": "stdout",
     "output_type": "stream",
     "text": [
      "Epoch: 39 | Time: 3m 52s\n",
      "\tTrain Loss: 2.787\n",
      "\t Val. Loss: 3.541\n"
     ]
    },
    {
     "name": "stderr",
     "output_type": "stream",
     "text": [
      "100%|██████████| 222/222 [03:56<00:00,  1.07s/it]\n",
      "100%|██████████| 8/8 [00:02<00:00,  2.81it/s]\n"
     ]
    },
    {
     "name": "stdout",
     "output_type": "stream",
     "text": [
      "Epoch: 40 | Time: 4m 1s\n",
      "\tTrain Loss: 2.779\n",
      "\t Val. Loss: 3.550\n"
     ]
    },
    {
     "name": "stderr",
     "output_type": "stream",
     "text": [
      "100%|██████████| 222/222 [03:48<00:00,  1.03s/it]\n",
      "100%|██████████| 8/8 [00:02<00:00,  2.85it/s]\n"
     ]
    },
    {
     "name": "stdout",
     "output_type": "stream",
     "text": [
      "Epoch: 41 | Time: 3m 53s\n",
      "\tTrain Loss: 2.782\n",
      "\t Val. Loss: 3.511\n"
     ]
    },
    {
     "name": "stderr",
     "output_type": "stream",
     "text": [
      "100%|██████████| 222/222 [03:49<00:00,  1.03s/it]\n",
      "100%|██████████| 8/8 [00:02<00:00,  2.80it/s]\n"
     ]
    },
    {
     "name": "stdout",
     "output_type": "stream",
     "text": [
      "Epoch: 42 | Time: 3m 53s\n",
      "\tTrain Loss: 2.768\n",
      "\t Val. Loss: 3.544\n"
     ]
    },
    {
     "name": "stderr",
     "output_type": "stream",
     "text": [
      "100%|██████████| 222/222 [03:53<00:00,  1.05s/it]\n",
      "100%|██████████| 8/8 [00:02<00:00,  2.81it/s]\n"
     ]
    },
    {
     "name": "stdout",
     "output_type": "stream",
     "text": [
      "Epoch: 43 | Time: 3m 57s\n",
      "\tTrain Loss: 2.763\n",
      "\t Val. Loss: 3.508\n"
     ]
    },
    {
     "name": "stderr",
     "output_type": "stream",
     "text": [
      "100%|██████████| 222/222 [03:54<00:00,  1.06s/it]\n",
      "100%|██████████| 8/8 [00:02<00:00,  2.82it/s]\n"
     ]
    },
    {
     "name": "stdout",
     "output_type": "stream",
     "text": [
      "Epoch: 44 | Time: 3m 59s\n",
      "\tTrain Loss: 2.760\n",
      "\t Val. Loss: 3.518\n"
     ]
    },
    {
     "name": "stderr",
     "output_type": "stream",
     "text": [
      "100%|██████████| 222/222 [03:52<00:00,  1.05s/it]\n",
      "100%|██████████| 8/8 [00:02<00:00,  2.76it/s]\n"
     ]
    },
    {
     "name": "stdout",
     "output_type": "stream",
     "text": [
      "Epoch: 45 | Time: 3m 56s\n",
      "\tTrain Loss: 2.753\n",
      "\t Val. Loss: 3.514\n"
     ]
    },
    {
     "name": "stderr",
     "output_type": "stream",
     "text": [
      "100%|██████████| 222/222 [03:55<00:00,  1.06s/it]\n",
      "100%|██████████| 8/8 [00:02<00:00,  2.86it/s]\n"
     ]
    },
    {
     "name": "stdout",
     "output_type": "stream",
     "text": [
      "Epoch: 46 | Time: 3m 59s\n",
      "\tTrain Loss: 2.750\n",
      "\t Val. Loss: 3.519\n"
     ]
    },
    {
     "name": "stderr",
     "output_type": "stream",
     "text": [
      "100%|██████████| 222/222 [03:52<00:00,  1.05s/it]\n",
      "100%|██████████| 8/8 [00:02<00:00,  2.82it/s]\n"
     ]
    },
    {
     "name": "stdout",
     "output_type": "stream",
     "text": [
      "Epoch: 47 | Time: 3m 56s\n",
      "\tTrain Loss: 2.746\n",
      "\t Val. Loss: 3.491\n"
     ]
    },
    {
     "name": "stderr",
     "output_type": "stream",
     "text": [
      "100%|██████████| 222/222 [03:53<00:00,  1.05s/it]\n",
      "100%|██████████| 8/8 [00:02<00:00,  2.78it/s]\n"
     ]
    },
    {
     "name": "stdout",
     "output_type": "stream",
     "text": [
      "Epoch: 48 | Time: 3m 57s\n",
      "\tTrain Loss: 2.737\n",
      "\t Val. Loss: 3.522\n"
     ]
    },
    {
     "name": "stderr",
     "output_type": "stream",
     "text": [
      "100%|██████████| 222/222 [03:51<00:00,  1.04s/it]\n",
      "100%|██████████| 8/8 [00:02<00:00,  2.83it/s]\n"
     ]
    },
    {
     "name": "stdout",
     "output_type": "stream",
     "text": [
      "Epoch: 49 | Time: 3m 55s\n",
      "\tTrain Loss: 2.738\n",
      "\t Val. Loss: 3.507\n"
     ]
    },
    {
     "name": "stderr",
     "output_type": "stream",
     "text": [
      "100%|██████████| 222/222 [03:57<00:00,  1.07s/it]\n",
      "100%|██████████| 8/8 [00:02<00:00,  2.82it/s]\n"
     ]
    },
    {
     "name": "stdout",
     "output_type": "stream",
     "text": [
      "Epoch: 50 | Time: 4m 2s\n",
      "\tTrain Loss: 2.726\n",
      "\t Val. Loss: 3.516\n"
     ]
    },
    {
     "name": "stderr",
     "output_type": "stream",
     "text": [
      "100%|██████████| 222/222 [03:52<00:00,  1.05s/it]\n",
      "100%|██████████| 8/8 [00:02<00:00,  2.84it/s]\n"
     ]
    },
    {
     "name": "stdout",
     "output_type": "stream",
     "text": [
      "Epoch: 51 | Time: 3m 57s\n",
      "\tTrain Loss: 2.733\n",
      "\t Val. Loss: 3.547\n"
     ]
    },
    {
     "name": "stderr",
     "output_type": "stream",
     "text": [
      "100%|██████████| 222/222 [03:53<00:00,  1.05s/it]\n",
      "100%|██████████| 8/8 [00:02<00:00,  2.85it/s]\n"
     ]
    },
    {
     "name": "stdout",
     "output_type": "stream",
     "text": [
      "Epoch: 52 | Time: 3m 58s\n",
      "\tTrain Loss: 2.724\n",
      "\t Val. Loss: 3.549\n"
     ]
    },
    {
     "name": "stderr",
     "output_type": "stream",
     "text": [
      "100%|██████████| 222/222 [03:53<00:00,  1.05s/it]\n",
      "100%|██████████| 8/8 [00:02<00:00,  2.78it/s]\n"
     ]
    },
    {
     "name": "stdout",
     "output_type": "stream",
     "text": [
      "Epoch: 53 | Time: 3m 57s\n",
      "\tTrain Loss: 2.722\n",
      "\t Val. Loss: 3.542\n"
     ]
    },
    {
     "name": "stderr",
     "output_type": "stream",
     "text": [
      "100%|██████████| 222/222 [03:53<00:00,  1.05s/it]\n",
      "100%|██████████| 8/8 [00:02<00:00,  2.84it/s]\n"
     ]
    },
    {
     "name": "stdout",
     "output_type": "stream",
     "text": [
      "Epoch: 54 | Time: 3m 58s\n",
      "\tTrain Loss: 2.716\n",
      "\t Val. Loss: 3.499\n"
     ]
    },
    {
     "name": "stderr",
     "output_type": "stream",
     "text": [
      "100%|██████████| 222/222 [03:48<00:00,  1.03s/it]\n",
      "100%|██████████| 8/8 [00:02<00:00,  2.91it/s]\n"
     ]
    },
    {
     "name": "stdout",
     "output_type": "stream",
     "text": [
      "Epoch: 55 | Time: 3m 52s\n",
      "\tTrain Loss: 2.712\n",
      "\t Val. Loss: 3.510\n"
     ]
    },
    {
     "name": "stderr",
     "output_type": "stream",
     "text": [
      "100%|██████████| 222/222 [03:52<00:00,  1.05s/it]\n",
      "100%|██████████| 8/8 [00:02<00:00,  2.79it/s]\n"
     ]
    },
    {
     "name": "stdout",
     "output_type": "stream",
     "text": [
      "Epoch: 56 | Time: 3m 57s\n",
      "\tTrain Loss: 2.715\n",
      "\t Val. Loss: 3.531\n"
     ]
    },
    {
     "name": "stderr",
     "output_type": "stream",
     "text": [
      "100%|██████████| 222/222 [03:58<00:00,  1.07s/it]\n",
      "100%|██████████| 8/8 [00:02<00:00,  2.84it/s]\n"
     ]
    },
    {
     "name": "stdout",
     "output_type": "stream",
     "text": [
      "Epoch: 57 | Time: 4m 2s\n",
      "\tTrain Loss: 2.701\n",
      "\t Val. Loss: 3.532\n"
     ]
    },
    {
     "name": "stderr",
     "output_type": "stream",
     "text": [
      "100%|██████████| 222/222 [03:59<00:00,  1.08s/it]\n",
      "100%|██████████| 8/8 [00:02<00:00,  2.80it/s]\n"
     ]
    },
    {
     "name": "stdout",
     "output_type": "stream",
     "text": [
      "Epoch: 58 | Time: 4m 4s\n",
      "\tTrain Loss: 2.705\n",
      "\t Val. Loss: 3.540\n"
     ]
    },
    {
     "name": "stderr",
     "output_type": "stream",
     "text": [
      "100%|██████████| 222/222 [03:54<00:00,  1.06s/it]\n",
      "100%|██████████| 8/8 [00:02<00:00,  2.80it/s]\n"
     ]
    },
    {
     "name": "stdout",
     "output_type": "stream",
     "text": [
      "Epoch: 59 | Time: 3m 59s\n",
      "\tTrain Loss: 2.699\n",
      "\t Val. Loss: 3.497\n"
     ]
    },
    {
     "name": "stderr",
     "output_type": "stream",
     "text": [
      "100%|██████████| 222/222 [03:59<00:00,  1.08s/it]\n",
      "100%|██████████| 8/8 [00:02<00:00,  2.81it/s]\n"
     ]
    },
    {
     "name": "stdout",
     "output_type": "stream",
     "text": [
      "Epoch: 60 | Time: 4m 3s\n",
      "\tTrain Loss: 2.692\n",
      "\t Val. Loss: 3.528\n"
     ]
    },
    {
     "name": "stderr",
     "output_type": "stream",
     "text": [
      "100%|██████████| 222/222 [03:55<00:00,  1.06s/it]\n",
      "100%|██████████| 8/8 [00:02<00:00,  2.82it/s]\n"
     ]
    },
    {
     "name": "stdout",
     "output_type": "stream",
     "text": [
      "Epoch: 61 | Time: 3m 59s\n",
      "\tTrain Loss: 2.695\n",
      "\t Val. Loss: 3.526\n"
     ]
    },
    {
     "name": "stderr",
     "output_type": "stream",
     "text": [
      "100%|██████████| 222/222 [03:54<00:00,  1.06s/it]\n",
      "100%|██████████| 8/8 [00:02<00:00,  2.76it/s]\n"
     ]
    },
    {
     "name": "stdout",
     "output_type": "stream",
     "text": [
      "Epoch: 62 | Time: 3m 58s\n",
      "\tTrain Loss: 2.692\n",
      "\t Val. Loss: 3.513\n"
     ]
    },
    {
     "name": "stderr",
     "output_type": "stream",
     "text": [
      "100%|██████████| 222/222 [03:58<00:00,  1.07s/it]\n",
      "100%|██████████| 8/8 [00:02<00:00,  2.83it/s]\n"
     ]
    },
    {
     "name": "stdout",
     "output_type": "stream",
     "text": [
      "Epoch: 63 | Time: 4m 2s\n",
      "\tTrain Loss: 2.685\n",
      "\t Val. Loss: 3.514\n"
     ]
    },
    {
     "name": "stderr",
     "output_type": "stream",
     "text": [
      "100%|██████████| 222/222 [03:58<00:00,  1.07s/it]\n",
      "100%|██████████| 8/8 [00:02<00:00,  2.80it/s]\n"
     ]
    },
    {
     "name": "stdout",
     "output_type": "stream",
     "text": [
      "Epoch: 64 | Time: 4m 2s\n",
      "\tTrain Loss: 2.685\n",
      "\t Val. Loss: 3.495\n"
     ]
    },
    {
     "name": "stderr",
     "output_type": "stream",
     "text": [
      "100%|██████████| 222/222 [03:53<00:00,  1.05s/it]\n",
      "100%|██████████| 8/8 [00:02<00:00,  2.79it/s]\n"
     ]
    },
    {
     "name": "stdout",
     "output_type": "stream",
     "text": [
      "Epoch: 65 | Time: 3m 57s\n",
      "\tTrain Loss: 2.685\n",
      "\t Val. Loss: 3.504\n"
     ]
    },
    {
     "name": "stderr",
     "output_type": "stream",
     "text": [
      "100%|██████████| 222/222 [03:58<00:00,  1.07s/it]\n",
      "100%|██████████| 8/8 [00:02<00:00,  2.83it/s]\n"
     ]
    },
    {
     "name": "stdout",
     "output_type": "stream",
     "text": [
      "Epoch: 66 | Time: 4m 2s\n",
      "\tTrain Loss: 2.692\n",
      "\t Val. Loss: 3.500\n"
     ]
    },
    {
     "name": "stderr",
     "output_type": "stream",
     "text": [
      "100%|██████████| 222/222 [03:57<00:00,  1.07s/it]\n",
      "100%|██████████| 8/8 [00:02<00:00,  2.82it/s]\n"
     ]
    },
    {
     "name": "stdout",
     "output_type": "stream",
     "text": [
      "Epoch: 67 | Time: 4m 2s\n",
      "\tTrain Loss: 2.687\n",
      "\t Val. Loss: 3.505\n"
     ]
    },
    {
     "name": "stderr",
     "output_type": "stream",
     "text": [
      "100%|██████████| 222/222 [03:54<00:00,  1.06s/it]\n",
      "100%|██████████| 8/8 [00:02<00:00,  2.81it/s]\n"
     ]
    },
    {
     "name": "stdout",
     "output_type": "stream",
     "text": [
      "Epoch: 68 | Time: 3m 59s\n",
      "\tTrain Loss: 2.680\n",
      "\t Val. Loss: 3.500\n"
     ]
    },
    {
     "name": "stderr",
     "output_type": "stream",
     "text": [
      "100%|██████████| 222/222 [03:52<00:00,  1.05s/it]\n",
      "100%|██████████| 8/8 [00:02<00:00,  2.81it/s]\n"
     ]
    },
    {
     "name": "stdout",
     "output_type": "stream",
     "text": [
      "Epoch: 69 | Time: 3m 56s\n",
      "\tTrain Loss: 2.678\n",
      "\t Val. Loss: 3.525\n"
     ]
    },
    {
     "name": "stderr",
     "output_type": "stream",
     "text": [
      "100%|██████████| 222/222 [03:56<00:00,  1.06s/it]\n",
      "100%|██████████| 8/8 [00:02<00:00,  2.93it/s]\n"
     ]
    },
    {
     "name": "stdout",
     "output_type": "stream",
     "text": [
      "Epoch: 70 | Time: 4m 0s\n",
      "\tTrain Loss: 2.667\n",
      "\t Val. Loss: 3.525\n"
     ]
    },
    {
     "name": "stderr",
     "output_type": "stream",
     "text": [
      "100%|██████████| 222/222 [03:52<00:00,  1.05s/it]\n",
      "100%|██████████| 8/8 [00:02<00:00,  2.78it/s]\n"
     ]
    },
    {
     "name": "stdout",
     "output_type": "stream",
     "text": [
      "Epoch: 71 | Time: 3m 56s\n",
      "\tTrain Loss: 2.670\n",
      "\t Val. Loss: 3.488\n"
     ]
    },
    {
     "name": "stderr",
     "output_type": "stream",
     "text": [
      "100%|██████████| 222/222 [03:56<00:00,  1.07s/it]\n",
      "100%|██████████| 8/8 [00:02<00:00,  2.84it/s]\n"
     ]
    },
    {
     "name": "stdout",
     "output_type": "stream",
     "text": [
      "Epoch: 72 | Time: 4m 1s\n",
      "\tTrain Loss: 2.666\n",
      "\t Val. Loss: 3.542\n"
     ]
    },
    {
     "name": "stderr",
     "output_type": "stream",
     "text": [
      "100%|██████████| 222/222 [03:49<00:00,  1.04s/it]\n",
      "100%|██████████| 8/8 [00:02<00:00,  2.81it/s]\n"
     ]
    },
    {
     "name": "stdout",
     "output_type": "stream",
     "text": [
      "Epoch: 73 | Time: 3m 54s\n",
      "\tTrain Loss: 2.670\n",
      "\t Val. Loss: 3.562\n"
     ]
    },
    {
     "name": "stderr",
     "output_type": "stream",
     "text": [
      "100%|██████████| 222/222 [03:54<00:00,  1.06s/it]\n",
      "100%|██████████| 8/8 [00:02<00:00,  2.78it/s]\n"
     ]
    },
    {
     "name": "stdout",
     "output_type": "stream",
     "text": [
      "Epoch: 74 | Time: 3m 58s\n",
      "\tTrain Loss: 2.665\n",
      "\t Val. Loss: 3.510\n"
     ]
    },
    {
     "name": "stderr",
     "output_type": "stream",
     "text": [
      "100%|██████████| 222/222 [03:55<00:00,  1.06s/it]\n",
      "100%|██████████| 8/8 [00:02<00:00,  2.81it/s]\n"
     ]
    },
    {
     "name": "stdout",
     "output_type": "stream",
     "text": [
      "Epoch: 75 | Time: 3m 59s\n",
      "\tTrain Loss: 2.661\n",
      "\t Val. Loss: 3.550\n"
     ]
    },
    {
     "name": "stderr",
     "output_type": "stream",
     "text": [
      "100%|██████████| 222/222 [03:54<00:00,  1.06s/it]\n",
      "100%|██████████| 8/8 [00:02<00:00,  2.83it/s]\n"
     ]
    },
    {
     "name": "stdout",
     "output_type": "stream",
     "text": [
      "Epoch: 76 | Time: 3m 58s\n",
      "\tTrain Loss: 2.664\n",
      "\t Val. Loss: 3.495\n"
     ]
    },
    {
     "name": "stderr",
     "output_type": "stream",
     "text": [
      "100%|██████████| 222/222 [03:55<00:00,  1.06s/it]\n",
      "100%|██████████| 8/8 [00:02<00:00,  2.79it/s]\n"
     ]
    },
    {
     "name": "stdout",
     "output_type": "stream",
     "text": [
      "Epoch: 77 | Time: 3m 59s\n",
      "\tTrain Loss: 2.653\n",
      "\t Val. Loss: 3.544\n"
     ]
    },
    {
     "name": "stderr",
     "output_type": "stream",
     "text": [
      "100%|██████████| 222/222 [03:54<00:00,  1.06s/it]\n",
      "100%|██████████| 8/8 [00:02<00:00,  2.81it/s]\n"
     ]
    },
    {
     "name": "stdout",
     "output_type": "stream",
     "text": [
      "Epoch: 78 | Time: 3m 59s\n",
      "\tTrain Loss: 2.651\n",
      "\t Val. Loss: 3.539\n"
     ]
    },
    {
     "name": "stderr",
     "output_type": "stream",
     "text": [
      "100%|██████████| 222/222 [03:53<00:00,  1.05s/it]\n",
      "100%|██████████| 8/8 [00:02<00:00,  2.82it/s]\n"
     ]
    },
    {
     "name": "stdout",
     "output_type": "stream",
     "text": [
      "Epoch: 79 | Time: 3m 57s\n",
      "\tTrain Loss: 2.657\n",
      "\t Val. Loss: 3.508\n"
     ]
    },
    {
     "name": "stderr",
     "output_type": "stream",
     "text": [
      "100%|██████████| 222/222 [03:55<00:00,  1.06s/it]\n",
      "100%|██████████| 8/8 [00:02<00:00,  2.78it/s]\n"
     ]
    },
    {
     "name": "stdout",
     "output_type": "stream",
     "text": [
      "Epoch: 80 | Time: 4m 0s\n",
      "\tTrain Loss: 2.646\n",
      "\t Val. Loss: 3.534\n"
     ]
    },
    {
     "name": "stderr",
     "output_type": "stream",
     "text": [
      "100%|██████████| 222/222 [03:55<00:00,  1.06s/it]\n",
      "100%|██████████| 8/8 [00:02<00:00,  2.77it/s]\n"
     ]
    },
    {
     "name": "stdout",
     "output_type": "stream",
     "text": [
      "Epoch: 81 | Time: 3m 59s\n",
      "\tTrain Loss: 2.649\n",
      "\t Val. Loss: 3.496\n"
     ]
    },
    {
     "name": "stderr",
     "output_type": "stream",
     "text": [
      "100%|██████████| 222/222 [03:57<00:00,  1.07s/it]\n",
      "100%|██████████| 8/8 [00:02<00:00,  2.82it/s]\n"
     ]
    },
    {
     "name": "stdout",
     "output_type": "stream",
     "text": [
      "Epoch: 82 | Time: 4m 2s\n",
      "\tTrain Loss: 2.640\n",
      "\t Val. Loss: 3.495\n"
     ]
    },
    {
     "name": "stderr",
     "output_type": "stream",
     "text": [
      "100%|██████████| 222/222 [03:51<00:00,  1.04s/it]\n",
      "100%|██████████| 8/8 [00:02<00:00,  2.78it/s]\n"
     ]
    },
    {
     "name": "stdout",
     "output_type": "stream",
     "text": [
      "Epoch: 83 | Time: 3m 56s\n",
      "\tTrain Loss: 2.650\n",
      "\t Val. Loss: 3.533\n"
     ]
    },
    {
     "name": "stderr",
     "output_type": "stream",
     "text": [
      "100%|██████████| 222/222 [03:53<00:00,  1.05s/it]\n",
      "100%|██████████| 8/8 [00:02<00:00,  2.81it/s]\n"
     ]
    },
    {
     "name": "stdout",
     "output_type": "stream",
     "text": [
      "Epoch: 84 | Time: 3m 57s\n",
      "\tTrain Loss: 2.641\n",
      "\t Val. Loss: 3.524\n"
     ]
    },
    {
     "name": "stderr",
     "output_type": "stream",
     "text": [
      "100%|██████████| 222/222 [03:51<00:00,  1.04s/it]\n",
      "100%|██████████| 8/8 [00:02<00:00,  2.85it/s]\n"
     ]
    },
    {
     "name": "stdout",
     "output_type": "stream",
     "text": [
      "Epoch: 85 | Time: 3m 56s\n",
      "\tTrain Loss: 2.641\n",
      "\t Val. Loss: 3.502\n"
     ]
    },
    {
     "name": "stderr",
     "output_type": "stream",
     "text": [
      "100%|██████████| 222/222 [03:44<00:00,  1.01s/it]\n",
      "100%|██████████| 8/8 [00:02<00:00,  2.85it/s]\n"
     ]
    },
    {
     "name": "stdout",
     "output_type": "stream",
     "text": [
      "Epoch: 86 | Time: 3m 49s\n",
      "\tTrain Loss: 2.643\n",
      "\t Val. Loss: 3.539\n"
     ]
    },
    {
     "name": "stderr",
     "output_type": "stream",
     "text": [
      "100%|██████████| 222/222 [03:54<00:00,  1.05s/it]\n",
      "100%|██████████| 8/8 [00:02<00:00,  2.83it/s]\n"
     ]
    },
    {
     "name": "stdout",
     "output_type": "stream",
     "text": [
      "Epoch: 87 | Time: 3m 58s\n",
      "\tTrain Loss: 2.637\n",
      "\t Val. Loss: 3.533\n"
     ]
    },
    {
     "name": "stderr",
     "output_type": "stream",
     "text": [
      "100%|██████████| 222/222 [03:53<00:00,  1.05s/it]\n",
      "100%|██████████| 8/8 [00:02<00:00,  2.78it/s]\n"
     ]
    },
    {
     "name": "stdout",
     "output_type": "stream",
     "text": [
      "Epoch: 88 | Time: 3m 57s\n",
      "\tTrain Loss: 2.635\n",
      "\t Val. Loss: 3.491\n"
     ]
    },
    {
     "name": "stderr",
     "output_type": "stream",
     "text": [
      "100%|██████████| 222/222 [03:53<00:00,  1.05s/it]\n",
      "100%|██████████| 8/8 [00:02<00:00,  2.87it/s]\n"
     ]
    },
    {
     "name": "stdout",
     "output_type": "stream",
     "text": [
      "Epoch: 89 | Time: 3m 57s\n",
      "\tTrain Loss: 2.634\n",
      "\t Val. Loss: 3.508\n"
     ]
    },
    {
     "name": "stderr",
     "output_type": "stream",
     "text": [
      "100%|██████████| 222/222 [03:51<00:00,  1.04s/it]\n",
      "100%|██████████| 8/8 [00:02<00:00,  2.77it/s]\n"
     ]
    },
    {
     "name": "stdout",
     "output_type": "stream",
     "text": [
      "Epoch: 90 | Time: 3m 56s\n",
      "\tTrain Loss: 2.635\n",
      "\t Val. Loss: 3.552\n"
     ]
    },
    {
     "name": "stderr",
     "output_type": "stream",
     "text": [
      "100%|██████████| 222/222 [03:55<00:00,  1.06s/it]\n",
      "100%|██████████| 8/8 [00:02<00:00,  2.84it/s]\n"
     ]
    },
    {
     "name": "stdout",
     "output_type": "stream",
     "text": [
      "Epoch: 91 | Time: 3m 59s\n",
      "\tTrain Loss: 2.628\n",
      "\t Val. Loss: 3.517\n"
     ]
    },
    {
     "name": "stderr",
     "output_type": "stream",
     "text": [
      "100%|██████████| 222/222 [03:55<00:00,  1.06s/it]\n",
      "100%|██████████| 8/8 [00:02<00:00,  2.78it/s]\n"
     ]
    },
    {
     "name": "stdout",
     "output_type": "stream",
     "text": [
      "Epoch: 92 | Time: 4m 0s\n",
      "\tTrain Loss: 2.637\n",
      "\t Val. Loss: 3.533\n"
     ]
    },
    {
     "name": "stderr",
     "output_type": "stream",
     "text": [
      "100%|██████████| 222/222 [03:53<00:00,  1.05s/it]\n",
      "100%|██████████| 8/8 [00:02<00:00,  2.95it/s]\n"
     ]
    },
    {
     "name": "stdout",
     "output_type": "stream",
     "text": [
      "Epoch: 93 | Time: 3m 57s\n",
      "\tTrain Loss: 2.629\n",
      "\t Val. Loss: 3.515\n"
     ]
    },
    {
     "name": "stderr",
     "output_type": "stream",
     "text": [
      "100%|██████████| 222/222 [03:49<00:00,  1.04s/it]\n",
      "100%|██████████| 8/8 [00:02<00:00,  2.81it/s]\n"
     ]
    },
    {
     "name": "stdout",
     "output_type": "stream",
     "text": [
      "Epoch: 94 | Time: 3m 54s\n",
      "\tTrain Loss: 2.622\n",
      "\t Val. Loss: 3.546\n"
     ]
    },
    {
     "name": "stderr",
     "output_type": "stream",
     "text": [
      "100%|██████████| 222/222 [03:54<00:00,  1.06s/it]\n",
      "100%|██████████| 8/8 [00:02<00:00,  2.79it/s]\n"
     ]
    },
    {
     "name": "stdout",
     "output_type": "stream",
     "text": [
      "Epoch: 95 | Time: 3m 59s\n",
      "\tTrain Loss: 2.627\n",
      "\t Val. Loss: 3.579\n"
     ]
    },
    {
     "name": "stderr",
     "output_type": "stream",
     "text": [
      "100%|██████████| 222/222 [03:53<00:00,  1.05s/it]\n",
      "100%|██████████| 8/8 [00:02<00:00,  2.81it/s]\n"
     ]
    },
    {
     "name": "stdout",
     "output_type": "stream",
     "text": [
      "Epoch: 96 | Time: 3m 58s\n",
      "\tTrain Loss: 2.622\n",
      "\t Val. Loss: 3.506\n"
     ]
    },
    {
     "name": "stderr",
     "output_type": "stream",
     "text": [
      "100%|██████████| 222/222 [03:53<00:00,  1.05s/it]\n",
      "100%|██████████| 8/8 [00:02<00:00,  2.74it/s]\n"
     ]
    },
    {
     "name": "stdout",
     "output_type": "stream",
     "text": [
      "Epoch: 97 | Time: 3m 57s\n",
      "\tTrain Loss: 2.624\n",
      "\t Val. Loss: 3.537\n"
     ]
    },
    {
     "name": "stderr",
     "output_type": "stream",
     "text": [
      "100%|██████████| 222/222 [03:58<00:00,  1.07s/it]\n",
      "100%|██████████| 8/8 [00:02<00:00,  2.79it/s]\n"
     ]
    },
    {
     "name": "stdout",
     "output_type": "stream",
     "text": [
      "Epoch: 98 | Time: 4m 2s\n",
      "\tTrain Loss: 2.623\n",
      "\t Val. Loss: 3.529\n"
     ]
    },
    {
     "name": "stderr",
     "output_type": "stream",
     "text": [
      "100%|██████████| 222/222 [03:49<00:00,  1.03s/it]\n",
      "100%|██████████| 8/8 [00:02<00:00,  2.84it/s]\n"
     ]
    },
    {
     "name": "stdout",
     "output_type": "stream",
     "text": [
      "Epoch: 99 | Time: 3m 53s\n",
      "\tTrain Loss: 2.620\n",
      "\t Val. Loss: 3.498\n"
     ]
    },
    {
     "name": "stderr",
     "output_type": "stream",
     "text": [
      "100%|██████████| 222/222 [03:54<00:00,  1.06s/it]\n",
      "100%|██████████| 8/8 [00:02<00:00,  2.84it/s]\n"
     ]
    },
    {
     "name": "stdout",
     "output_type": "stream",
     "text": [
      "Epoch: 100 | Time: 3m 58s\n",
      "\tTrain Loss: 2.620\n",
      "\t Val. Loss: 3.510\n"
     ]
    },
    {
     "name": "stderr",
     "output_type": "stream",
     "text": [
      "100%|██████████| 222/222 [03:52<00:00,  1.05s/it]\n",
      "100%|██████████| 8/8 [00:02<00:00,  2.81it/s]\n"
     ]
    },
    {
     "name": "stdout",
     "output_type": "stream",
     "text": [
      "Epoch: 101 | Time: 3m 57s\n",
      "\tTrain Loss: 2.625\n",
      "\t Val. Loss: 3.493\n"
     ]
    },
    {
     "name": "stderr",
     "output_type": "stream",
     "text": [
      "100%|██████████| 222/222 [03:55<00:00,  1.06s/it]\n",
      "100%|██████████| 8/8 [00:02<00:00,  2.80it/s]\n"
     ]
    },
    {
     "name": "stdout",
     "output_type": "stream",
     "text": [
      "Epoch: 102 | Time: 4m 0s\n",
      "\tTrain Loss: 2.622\n",
      "\t Val. Loss: 3.528\n"
     ]
    },
    {
     "name": "stderr",
     "output_type": "stream",
     "text": [
      "100%|██████████| 222/222 [03:56<00:00,  1.06s/it]\n",
      "100%|██████████| 8/8 [00:02<00:00,  2.86it/s]\n"
     ]
    },
    {
     "name": "stdout",
     "output_type": "stream",
     "text": [
      "Epoch: 103 | Time: 4m 0s\n",
      "\tTrain Loss: 2.616\n",
      "\t Val. Loss: 3.539\n"
     ]
    },
    {
     "name": "stderr",
     "output_type": "stream",
     "text": [
      "100%|██████████| 222/222 [03:55<00:00,  1.06s/it]\n",
      "100%|██████████| 8/8 [00:02<00:00,  2.79it/s]\n"
     ]
    },
    {
     "name": "stdout",
     "output_type": "stream",
     "text": [
      "Epoch: 104 | Time: 4m 0s\n",
      "\tTrain Loss: 2.618\n",
      "\t Val. Loss: 3.557\n"
     ]
    },
    {
     "name": "stderr",
     "output_type": "stream",
     "text": [
      "100%|██████████| 222/222 [03:52<00:00,  1.05s/it]\n",
      "100%|██████████| 8/8 [00:02<00:00,  2.76it/s]\n"
     ]
    },
    {
     "name": "stdout",
     "output_type": "stream",
     "text": [
      "Epoch: 105 | Time: 3m 56s\n",
      "\tTrain Loss: 2.612\n",
      "\t Val. Loss: 3.549\n"
     ]
    },
    {
     "name": "stderr",
     "output_type": "stream",
     "text": [
      "100%|██████████| 222/222 [03:52<00:00,  1.05s/it]\n",
      "100%|██████████| 8/8 [00:02<00:00,  2.78it/s]\n"
     ]
    },
    {
     "name": "stdout",
     "output_type": "stream",
     "text": [
      "Epoch: 106 | Time: 3m 57s\n",
      "\tTrain Loss: 2.610\n",
      "\t Val. Loss: 3.569\n"
     ]
    },
    {
     "name": "stderr",
     "output_type": "stream",
     "text": [
      "100%|██████████| 222/222 [03:52<00:00,  1.05s/it]\n",
      "100%|██████████| 8/8 [00:02<00:00,  2.82it/s]\n"
     ]
    },
    {
     "name": "stdout",
     "output_type": "stream",
     "text": [
      "Epoch: 107 | Time: 3m 56s\n",
      "\tTrain Loss: 2.617\n",
      "\t Val. Loss: 3.490\n"
     ]
    },
    {
     "name": "stderr",
     "output_type": "stream",
     "text": [
      "100%|██████████| 222/222 [03:51<00:00,  1.04s/it]\n",
      "100%|██████████| 8/8 [00:02<00:00,  2.81it/s]\n"
     ]
    },
    {
     "name": "stdout",
     "output_type": "stream",
     "text": [
      "Epoch: 108 | Time: 3m 56s\n",
      "\tTrain Loss: 2.613\n",
      "\t Val. Loss: 3.519\n"
     ]
    },
    {
     "name": "stderr",
     "output_type": "stream",
     "text": [
      "100%|██████████| 222/222 [03:49<00:00,  1.03s/it]\n",
      "100%|██████████| 8/8 [00:02<00:00,  2.90it/s]\n"
     ]
    },
    {
     "name": "stdout",
     "output_type": "stream",
     "text": [
      "Epoch: 109 | Time: 3m 53s\n",
      "\tTrain Loss: 2.612\n",
      "\t Val. Loss: 3.532\n"
     ]
    },
    {
     "name": "stderr",
     "output_type": "stream",
     "text": [
      "100%|██████████| 222/222 [03:52<00:00,  1.05s/it]\n",
      "100%|██████████| 8/8 [00:02<00:00,  2.81it/s]\n"
     ]
    },
    {
     "name": "stdout",
     "output_type": "stream",
     "text": [
      "Epoch: 110 | Time: 3m 57s\n",
      "\tTrain Loss: 2.609\n",
      "\t Val. Loss: 3.528\n"
     ]
    },
    {
     "name": "stderr",
     "output_type": "stream",
     "text": [
      "100%|██████████| 222/222 [03:55<00:00,  1.06s/it]\n",
      "100%|██████████| 8/8 [00:02<00:00,  2.83it/s]\n"
     ]
    },
    {
     "name": "stdout",
     "output_type": "stream",
     "text": [
      "Epoch: 111 | Time: 3m 59s\n",
      "\tTrain Loss: 2.606\n",
      "\t Val. Loss: 3.535\n"
     ]
    },
    {
     "name": "stderr",
     "output_type": "stream",
     "text": [
      "100%|██████████| 222/222 [03:56<00:00,  1.07s/it]\n",
      "100%|██████████| 8/8 [00:02<00:00,  2.85it/s]\n"
     ]
    },
    {
     "name": "stdout",
     "output_type": "stream",
     "text": [
      "Epoch: 112 | Time: 4m 0s\n",
      "\tTrain Loss: 2.605\n",
      "\t Val. Loss: 3.540\n"
     ]
    },
    {
     "name": "stderr",
     "output_type": "stream",
     "text": [
      "100%|██████████| 222/222 [03:55<00:00,  1.06s/it]\n",
      "100%|██████████| 8/8 [00:02<00:00,  2.76it/s]\n"
     ]
    },
    {
     "name": "stdout",
     "output_type": "stream",
     "text": [
      "Epoch: 113 | Time: 3m 59s\n",
      "\tTrain Loss: 2.610\n",
      "\t Val. Loss: 3.555\n"
     ]
    },
    {
     "name": "stderr",
     "output_type": "stream",
     "text": [
      "100%|██████████| 222/222 [03:57<00:00,  1.07s/it]\n",
      "100%|██████████| 8/8 [00:02<00:00,  2.77it/s]\n"
     ]
    },
    {
     "name": "stdout",
     "output_type": "stream",
     "text": [
      "Epoch: 114 | Time: 4m 1s\n",
      "\tTrain Loss: 2.601\n",
      "\t Val. Loss: 3.537\n"
     ]
    },
    {
     "name": "stderr",
     "output_type": "stream",
     "text": [
      "100%|██████████| 222/222 [04:00<00:00,  1.08s/it]\n",
      "100%|██████████| 8/8 [00:02<00:00,  2.80it/s]\n"
     ]
    },
    {
     "name": "stdout",
     "output_type": "stream",
     "text": [
      "Epoch: 115 | Time: 4m 4s\n",
      "\tTrain Loss: 2.600\n",
      "\t Val. Loss: 3.537\n"
     ]
    },
    {
     "name": "stderr",
     "output_type": "stream",
     "text": [
      "100%|██████████| 222/222 [03:56<00:00,  1.06s/it]\n",
      "100%|██████████| 8/8 [00:02<00:00,  2.79it/s]\n"
     ]
    },
    {
     "name": "stdout",
     "output_type": "stream",
     "text": [
      "Epoch: 116 | Time: 4m 0s\n",
      "\tTrain Loss: 2.605\n",
      "\t Val. Loss: 3.514\n"
     ]
    },
    {
     "name": "stderr",
     "output_type": "stream",
     "text": [
      "100%|██████████| 222/222 [03:51<00:00,  1.04s/it]\n",
      "100%|██████████| 8/8 [00:02<00:00,  2.84it/s]\n"
     ]
    },
    {
     "name": "stdout",
     "output_type": "stream",
     "text": [
      "Epoch: 117 | Time: 3m 56s\n",
      "\tTrain Loss: 2.600\n",
      "\t Val. Loss: 3.538\n"
     ]
    },
    {
     "name": "stderr",
     "output_type": "stream",
     "text": [
      "100%|██████████| 222/222 [03:55<00:00,  1.06s/it]\n",
      "100%|██████████| 8/8 [00:02<00:00,  2.80it/s]\n"
     ]
    },
    {
     "name": "stdout",
     "output_type": "stream",
     "text": [
      "Epoch: 118 | Time: 4m 0s\n",
      "\tTrain Loss: 2.599\n",
      "\t Val. Loss: 3.535\n"
     ]
    },
    {
     "name": "stderr",
     "output_type": "stream",
     "text": [
      "100%|██████████| 222/222 [03:51<00:00,  1.04s/it]\n",
      "100%|██████████| 8/8 [00:02<00:00,  2.79it/s]\n"
     ]
    },
    {
     "name": "stdout",
     "output_type": "stream",
     "text": [
      "Epoch: 119 | Time: 3m 56s\n",
      "\tTrain Loss: 2.601\n",
      "\t Val. Loss: 3.525\n"
     ]
    },
    {
     "name": "stderr",
     "output_type": "stream",
     "text": [
      "100%|██████████| 222/222 [03:51<00:00,  1.04s/it]\n",
      "100%|██████████| 8/8 [00:02<00:00,  2.84it/s]\n"
     ]
    },
    {
     "name": "stdout",
     "output_type": "stream",
     "text": [
      "Epoch: 120 | Time: 3m 55s\n",
      "\tTrain Loss: 2.598\n",
      "\t Val. Loss: 3.538\n"
     ]
    },
    {
     "name": "stderr",
     "output_type": "stream",
     "text": [
      "100%|██████████| 222/222 [03:49<00:00,  1.04s/it]\n",
      "100%|██████████| 8/8 [00:02<00:00,  2.84it/s]\n"
     ]
    },
    {
     "name": "stdout",
     "output_type": "stream",
     "text": [
      "Epoch: 121 | Time: 3m 54s\n",
      "\tTrain Loss: 2.599\n",
      "\t Val. Loss: 3.533\n"
     ]
    },
    {
     "name": "stderr",
     "output_type": "stream",
     "text": [
      "100%|██████████| 222/222 [04:01<00:00,  1.09s/it]\n",
      "100%|██████████| 8/8 [00:02<00:00,  2.76it/s]\n"
     ]
    },
    {
     "name": "stdout",
     "output_type": "stream",
     "text": [
      "Epoch: 122 | Time: 4m 5s\n",
      "\tTrain Loss: 2.594\n",
      "\t Val. Loss: 3.515\n"
     ]
    },
    {
     "name": "stderr",
     "output_type": "stream",
     "text": [
      "100%|██████████| 222/222 [03:52<00:00,  1.05s/it]\n",
      "100%|██████████| 8/8 [00:02<00:00,  2.78it/s]\n"
     ]
    },
    {
     "name": "stdout",
     "output_type": "stream",
     "text": [
      "Epoch: 123 | Time: 3m 57s\n",
      "\tTrain Loss: 2.596\n",
      "\t Val. Loss: 3.516\n"
     ]
    },
    {
     "name": "stderr",
     "output_type": "stream",
     "text": [
      "100%|██████████| 222/222 [03:55<00:00,  1.06s/it]\n",
      "100%|██████████| 8/8 [00:02<00:00,  2.80it/s]\n"
     ]
    },
    {
     "name": "stdout",
     "output_type": "stream",
     "text": [
      "Epoch: 124 | Time: 3m 59s\n",
      "\tTrain Loss: 2.598\n",
      "\t Val. Loss: 3.511\n"
     ]
    },
    {
     "name": "stderr",
     "output_type": "stream",
     "text": [
      "100%|██████████| 222/222 [03:54<00:00,  1.06s/it]\n",
      "100%|██████████| 8/8 [00:02<00:00,  2.87it/s]\n"
     ]
    },
    {
     "name": "stdout",
     "output_type": "stream",
     "text": [
      "Epoch: 125 | Time: 3m 58s\n",
      "\tTrain Loss: 2.593\n",
      "\t Val. Loss: 3.523\n"
     ]
    },
    {
     "name": "stderr",
     "output_type": "stream",
     "text": [
      "100%|██████████| 222/222 [03:55<00:00,  1.06s/it]\n",
      "100%|██████████| 8/8 [00:02<00:00,  2.80it/s]\n"
     ]
    },
    {
     "name": "stdout",
     "output_type": "stream",
     "text": [
      "Epoch: 126 | Time: 4m 0s\n",
      "\tTrain Loss: 2.599\n",
      "\t Val. Loss: 3.521\n"
     ]
    },
    {
     "name": "stderr",
     "output_type": "stream",
     "text": [
      "100%|██████████| 222/222 [03:51<00:00,  1.04s/it]\n",
      "100%|██████████| 8/8 [00:02<00:00,  2.80it/s]\n"
     ]
    },
    {
     "name": "stdout",
     "output_type": "stream",
     "text": [
      "Epoch: 127 | Time: 3m 56s\n",
      "\tTrain Loss: 2.594\n",
      "\t Val. Loss: 3.545\n"
     ]
    },
    {
     "name": "stderr",
     "output_type": "stream",
     "text": [
      "100%|██████████| 222/222 [03:51<00:00,  1.04s/it]\n",
      "100%|██████████| 8/8 [00:02<00:00,  2.80it/s]\n"
     ]
    },
    {
     "name": "stdout",
     "output_type": "stream",
     "text": [
      "Epoch: 128 | Time: 3m 55s\n",
      "\tTrain Loss: 2.589\n",
      "\t Val. Loss: 3.540\n"
     ]
    },
    {
     "name": "stderr",
     "output_type": "stream",
     "text": [
      "100%|██████████| 222/222 [03:51<00:00,  1.04s/it]\n",
      "100%|██████████| 8/8 [00:02<00:00,  2.81it/s]\n"
     ]
    },
    {
     "name": "stdout",
     "output_type": "stream",
     "text": [
      "Epoch: 129 | Time: 3m 55s\n",
      "\tTrain Loss: 2.592\n",
      "\t Val. Loss: 3.531\n"
     ]
    },
    {
     "name": "stderr",
     "output_type": "stream",
     "text": [
      "100%|██████████| 222/222 [03:51<00:00,  1.04s/it]\n",
      "100%|██████████| 8/8 [00:02<00:00,  2.83it/s]\n"
     ]
    },
    {
     "name": "stdout",
     "output_type": "stream",
     "text": [
      "Epoch: 130 | Time: 3m 55s\n",
      "\tTrain Loss: 2.589\n",
      "\t Val. Loss: 3.548\n"
     ]
    },
    {
     "name": "stderr",
     "output_type": "stream",
     "text": [
      "100%|██████████| 222/222 [03:56<00:00,  1.07s/it]\n",
      "100%|██████████| 8/8 [00:02<00:00,  2.81it/s]\n"
     ]
    },
    {
     "name": "stdout",
     "output_type": "stream",
     "text": [
      "Epoch: 131 | Time: 4m 1s\n",
      "\tTrain Loss: 2.589\n",
      "\t Val. Loss: 3.557\n"
     ]
    },
    {
     "name": "stderr",
     "output_type": "stream",
     "text": [
      "100%|██████████| 222/222 [03:57<00:00,  1.07s/it]\n",
      "100%|██████████| 8/8 [00:02<00:00,  2.82it/s]\n"
     ]
    },
    {
     "name": "stdout",
     "output_type": "stream",
     "text": [
      "Epoch: 132 | Time: 4m 2s\n",
      "\tTrain Loss: 2.587\n",
      "\t Val. Loss: 3.543\n"
     ]
    },
    {
     "name": "stderr",
     "output_type": "stream",
     "text": [
      "100%|██████████| 222/222 [03:52<00:00,  1.05s/it]\n",
      "100%|██████████| 8/8 [00:02<00:00,  2.78it/s]\n"
     ]
    },
    {
     "name": "stdout",
     "output_type": "stream",
     "text": [
      "Epoch: 133 | Time: 3m 56s\n",
      "\tTrain Loss: 2.588\n",
      "\t Val. Loss: 3.538\n"
     ]
    },
    {
     "name": "stderr",
     "output_type": "stream",
     "text": [
      "100%|██████████| 222/222 [03:50<00:00,  1.04s/it]\n",
      "100%|██████████| 8/8 [00:02<00:00,  2.79it/s]\n"
     ]
    },
    {
     "name": "stdout",
     "output_type": "stream",
     "text": [
      "Epoch: 134 | Time: 3m 55s\n",
      "\tTrain Loss: 2.589\n",
      "\t Val. Loss: 3.547\n"
     ]
    },
    {
     "name": "stderr",
     "output_type": "stream",
     "text": [
      "100%|██████████| 222/222 [03:46<00:00,  1.02s/it]\n",
      "100%|██████████| 8/8 [00:02<00:00,  2.75it/s]\n"
     ]
    },
    {
     "name": "stdout",
     "output_type": "stream",
     "text": [
      "Epoch: 135 | Time: 3m 50s\n",
      "\tTrain Loss: 2.589\n",
      "\t Val. Loss: 3.546\n"
     ]
    },
    {
     "name": "stderr",
     "output_type": "stream",
     "text": [
      "100%|██████████| 222/222 [03:58<00:00,  1.07s/it]\n",
      "100%|██████████| 8/8 [00:02<00:00,  2.83it/s]\n"
     ]
    },
    {
     "name": "stdout",
     "output_type": "stream",
     "text": [
      "Epoch: 136 | Time: 4m 2s\n",
      "\tTrain Loss: 2.587\n",
      "\t Val. Loss: 3.552\n"
     ]
    },
    {
     "name": "stderr",
     "output_type": "stream",
     "text": [
      "100%|██████████| 222/222 [03:56<00:00,  1.07s/it]\n",
      "100%|██████████| 8/8 [00:02<00:00,  2.77it/s]\n"
     ]
    },
    {
     "name": "stdout",
     "output_type": "stream",
     "text": [
      "Epoch: 137 | Time: 4m 1s\n",
      "\tTrain Loss: 2.578\n",
      "\t Val. Loss: 3.533\n"
     ]
    },
    {
     "name": "stderr",
     "output_type": "stream",
     "text": [
      "100%|██████████| 222/222 [03:55<00:00,  1.06s/it]\n",
      "100%|██████████| 8/8 [00:02<00:00,  2.77it/s]\n"
     ]
    },
    {
     "name": "stdout",
     "output_type": "stream",
     "text": [
      "Epoch: 138 | Time: 3m 59s\n",
      "\tTrain Loss: 2.581\n",
      "\t Val. Loss: 3.588\n"
     ]
    },
    {
     "name": "stderr",
     "output_type": "stream",
     "text": [
      "100%|██████████| 222/222 [03:52<00:00,  1.05s/it]\n",
      "100%|██████████| 8/8 [00:02<00:00,  2.79it/s]\n"
     ]
    },
    {
     "name": "stdout",
     "output_type": "stream",
     "text": [
      "Epoch: 139 | Time: 3m 56s\n",
      "\tTrain Loss: 2.581\n",
      "\t Val. Loss: 3.558\n"
     ]
    },
    {
     "name": "stderr",
     "output_type": "stream",
     "text": [
      "100%|██████████| 222/222 [03:54<00:00,  1.05s/it]\n",
      "100%|██████████| 8/8 [00:02<00:00,  2.79it/s]\n"
     ]
    },
    {
     "name": "stdout",
     "output_type": "stream",
     "text": [
      "Epoch: 140 | Time: 3m 58s\n",
      "\tTrain Loss: 2.587\n",
      "\t Val. Loss: 3.535\n"
     ]
    },
    {
     "name": "stderr",
     "output_type": "stream",
     "text": [
      "100%|██████████| 222/222 [03:53<00:00,  1.05s/it]\n",
      "100%|██████████| 8/8 [00:02<00:00,  2.81it/s]\n"
     ]
    },
    {
     "name": "stdout",
     "output_type": "stream",
     "text": [
      "Epoch: 141 | Time: 3m 57s\n",
      "\tTrain Loss: 2.582\n",
      "\t Val. Loss: 3.534\n"
     ]
    },
    {
     "name": "stderr",
     "output_type": "stream",
     "text": [
      "100%|██████████| 222/222 [03:55<00:00,  1.06s/it]\n",
      "100%|██████████| 8/8 [00:02<00:00,  2.77it/s]\n"
     ]
    },
    {
     "name": "stdout",
     "output_type": "stream",
     "text": [
      "Epoch: 142 | Time: 4m 0s\n",
      "\tTrain Loss: 2.584\n",
      "\t Val. Loss: 3.532\n"
     ]
    },
    {
     "name": "stderr",
     "output_type": "stream",
     "text": [
      "100%|██████████| 222/222 [03:55<00:00,  1.06s/it]\n",
      "100%|██████████| 8/8 [00:02<00:00,  2.81it/s]\n"
     ]
    },
    {
     "name": "stdout",
     "output_type": "stream",
     "text": [
      "Epoch: 143 | Time: 4m 0s\n",
      "\tTrain Loss: 2.578\n",
      "\t Val. Loss: 3.563\n"
     ]
    },
    {
     "name": "stderr",
     "output_type": "stream",
     "text": [
      "100%|██████████| 222/222 [03:58<00:00,  1.07s/it]\n",
      "100%|██████████| 8/8 [00:02<00:00,  2.81it/s]\n"
     ]
    },
    {
     "name": "stdout",
     "output_type": "stream",
     "text": [
      "Epoch: 144 | Time: 4m 2s\n",
      "\tTrain Loss: 2.579\n",
      "\t Val. Loss: 3.557\n"
     ]
    },
    {
     "name": "stderr",
     "output_type": "stream",
     "text": [
      "100%|██████████| 222/222 [03:54<00:00,  1.06s/it]\n",
      "100%|██████████| 8/8 [00:02<00:00,  2.78it/s]\n"
     ]
    },
    {
     "name": "stdout",
     "output_type": "stream",
     "text": [
      "Epoch: 145 | Time: 3m 59s\n",
      "\tTrain Loss: 2.578\n",
      "\t Val. Loss: 3.538\n"
     ]
    },
    {
     "name": "stderr",
     "output_type": "stream",
     "text": [
      "100%|██████████| 222/222 [03:53<00:00,  1.05s/it]\n",
      "100%|██████████| 8/8 [00:02<00:00,  2.82it/s]\n"
     ]
    },
    {
     "name": "stdout",
     "output_type": "stream",
     "text": [
      "Epoch: 146 | Time: 3m 58s\n",
      "\tTrain Loss: 2.583\n",
      "\t Val. Loss: 3.573\n"
     ]
    },
    {
     "name": "stderr",
     "output_type": "stream",
     "text": [
      "100%|██████████| 222/222 [03:53<00:00,  1.05s/it]\n",
      "100%|██████████| 8/8 [00:02<00:00,  2.79it/s]\n"
     ]
    },
    {
     "name": "stdout",
     "output_type": "stream",
     "text": [
      "Epoch: 147 | Time: 3m 57s\n",
      "\tTrain Loss: 2.579\n",
      "\t Val. Loss: 3.533\n"
     ]
    },
    {
     "name": "stderr",
     "output_type": "stream",
     "text": [
      "100%|██████████| 222/222 [03:59<00:00,  1.08s/it]\n",
      "100%|██████████| 8/8 [00:02<00:00,  2.77it/s]\n"
     ]
    },
    {
     "name": "stdout",
     "output_type": "stream",
     "text": [
      "Epoch: 148 | Time: 4m 4s\n",
      "\tTrain Loss: 2.582\n",
      "\t Val. Loss: 3.570\n"
     ]
    },
    {
     "name": "stderr",
     "output_type": "stream",
     "text": [
      "100%|██████████| 222/222 [03:50<00:00,  1.04s/it]\n",
      "100%|██████████| 8/8 [00:02<00:00,  2.80it/s]\n"
     ]
    },
    {
     "name": "stdout",
     "output_type": "stream",
     "text": [
      "Epoch: 149 | Time: 3m 55s\n",
      "\tTrain Loss: 2.584\n",
      "\t Val. Loss: 3.586\n"
     ]
    },
    {
     "name": "stderr",
     "output_type": "stream",
     "text": [
      "100%|██████████| 222/222 [03:54<00:00,  1.06s/it]\n",
      "100%|██████████| 8/8 [00:02<00:00,  2.81it/s]\n"
     ]
    },
    {
     "name": "stdout",
     "output_type": "stream",
     "text": [
      "Epoch: 150 | Time: 3m 59s\n",
      "\tTrain Loss: 2.578\n",
      "\t Val. Loss: 3.519\n"
     ]
    },
    {
     "name": "stderr",
     "output_type": "stream",
     "text": [
      "100%|██████████| 222/222 [03:54<00:00,  1.05s/it]\n",
      "100%|██████████| 8/8 [00:02<00:00,  2.79it/s]\n"
     ]
    },
    {
     "name": "stdout",
     "output_type": "stream",
     "text": [
      "Epoch: 151 | Time: 3m 58s\n",
      "\tTrain Loss: 2.575\n",
      "\t Val. Loss: 3.527\n"
     ]
    },
    {
     "name": "stderr",
     "output_type": "stream",
     "text": [
      "100%|██████████| 222/222 [03:54<00:00,  1.05s/it]\n",
      "100%|██████████| 8/8 [00:02<00:00,  2.81it/s]\n"
     ]
    },
    {
     "name": "stdout",
     "output_type": "stream",
     "text": [
      "Epoch: 152 | Time: 3m 58s\n",
      "\tTrain Loss: 2.575\n",
      "\t Val. Loss: 3.548\n"
     ]
    },
    {
     "name": "stderr",
     "output_type": "stream",
     "text": [
      "100%|██████████| 222/222 [03:56<00:00,  1.06s/it]\n",
      "100%|██████████| 8/8 [00:02<00:00,  2.81it/s]\n"
     ]
    },
    {
     "name": "stdout",
     "output_type": "stream",
     "text": [
      "Epoch: 153 | Time: 4m 0s\n",
      "\tTrain Loss: 2.579\n",
      "\t Val. Loss: 3.540\n"
     ]
    },
    {
     "name": "stderr",
     "output_type": "stream",
     "text": [
      "100%|██████████| 222/222 [03:53<00:00,  1.05s/it]\n",
      "100%|██████████| 8/8 [00:02<00:00,  2.81it/s]\n"
     ]
    },
    {
     "name": "stdout",
     "output_type": "stream",
     "text": [
      "Epoch: 154 | Time: 3m 58s\n",
      "\tTrain Loss: 2.578\n",
      "\t Val. Loss: 3.532\n"
     ]
    },
    {
     "name": "stderr",
     "output_type": "stream",
     "text": [
      "100%|██████████| 222/222 [03:51<00:00,  1.04s/it]\n",
      "100%|██████████| 8/8 [00:02<00:00,  2.77it/s]\n"
     ]
    },
    {
     "name": "stdout",
     "output_type": "stream",
     "text": [
      "Epoch: 155 | Time: 3m 56s\n",
      "\tTrain Loss: 2.574\n",
      "\t Val. Loss: 3.514\n"
     ]
    },
    {
     "name": "stderr",
     "output_type": "stream",
     "text": [
      "100%|██████████| 222/222 [03:55<00:00,  1.06s/it]\n",
      "100%|██████████| 8/8 [00:02<00:00,  2.81it/s]\n"
     ]
    },
    {
     "name": "stdout",
     "output_type": "stream",
     "text": [
      "Epoch: 156 | Time: 4m 0s\n",
      "\tTrain Loss: 2.571\n",
      "\t Val. Loss: 3.547\n"
     ]
    },
    {
     "name": "stderr",
     "output_type": "stream",
     "text": [
      "100%|██████████| 222/222 [03:57<00:00,  1.07s/it]\n",
      "100%|██████████| 8/8 [00:02<00:00,  2.82it/s]\n"
     ]
    },
    {
     "name": "stdout",
     "output_type": "stream",
     "text": [
      "Epoch: 157 | Time: 4m 2s\n",
      "\tTrain Loss: 2.579\n",
      "\t Val. Loss: 3.526\n"
     ]
    },
    {
     "name": "stderr",
     "output_type": "stream",
     "text": [
      "100%|██████████| 222/222 [03:57<00:00,  1.07s/it]\n",
      "100%|██████████| 8/8 [00:02<00:00,  2.84it/s]\n"
     ]
    },
    {
     "name": "stdout",
     "output_type": "stream",
     "text": [
      "Epoch: 158 | Time: 4m 1s\n",
      "\tTrain Loss: 2.572\n",
      "\t Val. Loss: 3.557\n"
     ]
    },
    {
     "name": "stderr",
     "output_type": "stream",
     "text": [
      "100%|██████████| 222/222 [03:51<00:00,  1.04s/it]\n",
      "100%|██████████| 8/8 [00:02<00:00,  2.79it/s]\n"
     ]
    },
    {
     "name": "stdout",
     "output_type": "stream",
     "text": [
      "Epoch: 159 | Time: 3m 56s\n",
      "\tTrain Loss: 2.573\n",
      "\t Val. Loss: 3.556\n"
     ]
    },
    {
     "name": "stderr",
     "output_type": "stream",
     "text": [
      "100%|██████████| 222/222 [03:56<00:00,  1.06s/it]\n",
      "100%|██████████| 8/8 [00:02<00:00,  2.83it/s]\n"
     ]
    },
    {
     "name": "stdout",
     "output_type": "stream",
     "text": [
      "Epoch: 160 | Time: 4m 0s\n",
      "\tTrain Loss: 2.572\n",
      "\t Val. Loss: 3.549\n"
     ]
    },
    {
     "name": "stderr",
     "output_type": "stream",
     "text": [
      "100%|██████████| 222/222 [03:53<00:00,  1.05s/it]\n",
      "100%|██████████| 8/8 [00:02<00:00,  2.83it/s]\n"
     ]
    },
    {
     "name": "stdout",
     "output_type": "stream",
     "text": [
      "Epoch: 161 | Time: 3m 57s\n",
      "\tTrain Loss: 2.572\n",
      "\t Val. Loss: 3.567\n"
     ]
    },
    {
     "name": "stderr",
     "output_type": "stream",
     "text": [
      "100%|██████████| 222/222 [03:54<00:00,  1.06s/it]\n",
      "100%|██████████| 8/8 [00:02<00:00,  2.84it/s]\n"
     ]
    },
    {
     "name": "stdout",
     "output_type": "stream",
     "text": [
      "Epoch: 162 | Time: 3m 58s\n",
      "\tTrain Loss: 2.569\n",
      "\t Val. Loss: 3.546\n"
     ]
    },
    {
     "name": "stderr",
     "output_type": "stream",
     "text": [
      "100%|██████████| 222/222 [03:49<00:00,  1.03s/it]\n",
      "100%|██████████| 8/8 [00:02<00:00,  2.79it/s]\n"
     ]
    },
    {
     "name": "stdout",
     "output_type": "stream",
     "text": [
      "Epoch: 163 | Time: 3m 54s\n",
      "\tTrain Loss: 2.572\n",
      "\t Val. Loss: 3.561\n"
     ]
    },
    {
     "name": "stderr",
     "output_type": "stream",
     "text": [
      "100%|██████████| 222/222 [03:53<00:00,  1.05s/it]\n",
      "100%|██████████| 8/8 [00:02<00:00,  2.81it/s]\n"
     ]
    },
    {
     "name": "stdout",
     "output_type": "stream",
     "text": [
      "Epoch: 164 | Time: 3m 58s\n",
      "\tTrain Loss: 2.572\n",
      "\t Val. Loss: 3.544\n"
     ]
    },
    {
     "name": "stderr",
     "output_type": "stream",
     "text": [
      "100%|██████████| 222/222 [03:51<00:00,  1.04s/it]\n",
      "100%|██████████| 8/8 [00:02<00:00,  2.81it/s]\n"
     ]
    },
    {
     "name": "stdout",
     "output_type": "stream",
     "text": [
      "Epoch: 165 | Time: 3m 56s\n",
      "\tTrain Loss: 2.574\n",
      "\t Val. Loss: 3.546\n"
     ]
    },
    {
     "name": "stderr",
     "output_type": "stream",
     "text": [
      "100%|██████████| 222/222 [03:49<00:00,  1.03s/it]\n",
      "100%|██████████| 8/8 [00:02<00:00,  2.79it/s]\n"
     ]
    },
    {
     "name": "stdout",
     "output_type": "stream",
     "text": [
      "Epoch: 166 | Time: 3m 54s\n",
      "\tTrain Loss: 2.573\n",
      "\t Val. Loss: 3.539\n"
     ]
    },
    {
     "name": "stderr",
     "output_type": "stream",
     "text": [
      "100%|██████████| 222/222 [03:52<00:00,  1.05s/it]\n",
      "100%|██████████| 8/8 [00:02<00:00,  2.81it/s]\n"
     ]
    },
    {
     "name": "stdout",
     "output_type": "stream",
     "text": [
      "Epoch: 167 | Time: 3m 57s\n",
      "\tTrain Loss: 2.571\n",
      "\t Val. Loss: 3.544\n"
     ]
    },
    {
     "name": "stderr",
     "output_type": "stream",
     "text": [
      "100%|██████████| 222/222 [03:55<00:00,  1.06s/it]\n",
      "100%|██████████| 8/8 [00:02<00:00,  2.87it/s]\n"
     ]
    },
    {
     "name": "stdout",
     "output_type": "stream",
     "text": [
      "Epoch: 168 | Time: 3m 59s\n",
      "\tTrain Loss: 2.576\n",
      "\t Val. Loss: 3.515\n"
     ]
    },
    {
     "name": "stderr",
     "output_type": "stream",
     "text": [
      "100%|██████████| 222/222 [03:48<00:00,  1.03s/it]\n",
      "100%|██████████| 8/8 [00:02<00:00,  2.81it/s]\n"
     ]
    },
    {
     "name": "stdout",
     "output_type": "stream",
     "text": [
      "Epoch: 169 | Time: 3m 52s\n",
      "\tTrain Loss: 2.567\n",
      "\t Val. Loss: 3.532\n"
     ]
    },
    {
     "name": "stderr",
     "output_type": "stream",
     "text": [
      "100%|██████████| 222/222 [03:55<00:00,  1.06s/it]\n",
      "100%|██████████| 8/8 [00:02<00:00,  2.80it/s]\n"
     ]
    },
    {
     "name": "stdout",
     "output_type": "stream",
     "text": [
      "Epoch: 170 | Time: 3m 59s\n",
      "\tTrain Loss: 2.566\n",
      "\t Val. Loss: 3.543\n"
     ]
    },
    {
     "name": "stderr",
     "output_type": "stream",
     "text": [
      "100%|██████████| 222/222 [03:57<00:00,  1.07s/it]\n",
      "100%|██████████| 8/8 [00:02<00:00,  2.81it/s]\n"
     ]
    },
    {
     "name": "stdout",
     "output_type": "stream",
     "text": [
      "Epoch: 171 | Time: 4m 1s\n",
      "\tTrain Loss: 2.567\n",
      "\t Val. Loss: 3.545\n"
     ]
    },
    {
     "name": "stderr",
     "output_type": "stream",
     "text": [
      "100%|██████████| 222/222 [03:54<00:00,  1.06s/it]\n",
      "100%|██████████| 8/8 [00:02<00:00,  2.84it/s]\n"
     ]
    },
    {
     "name": "stdout",
     "output_type": "stream",
     "text": [
      "Epoch: 172 | Time: 3m 58s\n",
      "\tTrain Loss: 2.572\n",
      "\t Val. Loss: 3.532\n"
     ]
    },
    {
     "name": "stderr",
     "output_type": "stream",
     "text": [
      "100%|██████████| 222/222 [03:54<00:00,  1.06s/it]\n",
      "100%|██████████| 8/8 [00:02<00:00,  2.82it/s]\n"
     ]
    },
    {
     "name": "stdout",
     "output_type": "stream",
     "text": [
      "Epoch: 173 | Time: 3m 58s\n",
      "\tTrain Loss: 2.565\n",
      "\t Val. Loss: 3.538\n"
     ]
    },
    {
     "name": "stderr",
     "output_type": "stream",
     "text": [
      "100%|██████████| 222/222 [03:52<00:00,  1.05s/it]\n",
      "100%|██████████| 8/8 [00:02<00:00,  2.84it/s]\n"
     ]
    },
    {
     "name": "stdout",
     "output_type": "stream",
     "text": [
      "Epoch: 174 | Time: 3m 56s\n",
      "\tTrain Loss: 2.566\n",
      "\t Val. Loss: 3.559\n"
     ]
    },
    {
     "name": "stderr",
     "output_type": "stream",
     "text": [
      "100%|██████████| 222/222 [03:58<00:00,  1.07s/it]\n",
      "100%|██████████| 8/8 [00:02<00:00,  2.83it/s]\n"
     ]
    },
    {
     "name": "stdout",
     "output_type": "stream",
     "text": [
      "Epoch: 175 | Time: 4m 3s\n",
      "\tTrain Loss: 2.569\n",
      "\t Val. Loss: 3.526\n"
     ]
    },
    {
     "name": "stderr",
     "output_type": "stream",
     "text": [
      "100%|██████████| 222/222 [03:56<00:00,  1.06s/it]\n",
      "100%|██████████| 8/8 [00:02<00:00,  2.82it/s]\n"
     ]
    },
    {
     "name": "stdout",
     "output_type": "stream",
     "text": [
      "Epoch: 176 | Time: 4m 0s\n",
      "\tTrain Loss: 2.562\n",
      "\t Val. Loss: 3.559\n"
     ]
    },
    {
     "name": "stderr",
     "output_type": "stream",
     "text": [
      "100%|██████████| 222/222 [03:53<00:00,  1.05s/it]\n",
      "100%|██████████| 8/8 [00:02<00:00,  2.83it/s]\n"
     ]
    },
    {
     "name": "stdout",
     "output_type": "stream",
     "text": [
      "Epoch: 177 | Time: 3m 57s\n",
      "\tTrain Loss: 2.568\n",
      "\t Val. Loss: 3.587\n"
     ]
    },
    {
     "name": "stderr",
     "output_type": "stream",
     "text": [
      "100%|██████████| 222/222 [03:53<00:00,  1.05s/it]\n",
      "100%|██████████| 8/8 [00:02<00:00,  2.84it/s]\n"
     ]
    },
    {
     "name": "stdout",
     "output_type": "stream",
     "text": [
      "Epoch: 178 | Time: 3m 58s\n",
      "\tTrain Loss: 2.568\n",
      "\t Val. Loss: 3.558\n"
     ]
    },
    {
     "name": "stderr",
     "output_type": "stream",
     "text": [
      "100%|██████████| 222/222 [03:59<00:00,  1.08s/it]\n",
      "100%|██████████| 8/8 [00:02<00:00,  2.82it/s]\n"
     ]
    },
    {
     "name": "stdout",
     "output_type": "stream",
     "text": [
      "Epoch: 179 | Time: 4m 3s\n",
      "\tTrain Loss: 2.565\n",
      "\t Val. Loss: 3.559\n"
     ]
    },
    {
     "name": "stderr",
     "output_type": "stream",
     "text": [
      "100%|██████████| 222/222 [03:52<00:00,  1.05s/it]\n",
      "100%|██████████| 8/8 [00:02<00:00,  2.76it/s]\n"
     ]
    },
    {
     "name": "stdout",
     "output_type": "stream",
     "text": [
      "Epoch: 180 | Time: 3m 56s\n",
      "\tTrain Loss: 2.570\n",
      "\t Val. Loss: 3.539\n"
     ]
    },
    {
     "name": "stderr",
     "output_type": "stream",
     "text": [
      "100%|██████████| 222/222 [03:56<00:00,  1.07s/it]\n",
      "100%|██████████| 8/8 [00:02<00:00,  2.77it/s]\n"
     ]
    },
    {
     "name": "stdout",
     "output_type": "stream",
     "text": [
      "Epoch: 181 | Time: 4m 1s\n",
      "\tTrain Loss: 2.561\n",
      "\t Val. Loss: 3.578\n"
     ]
    },
    {
     "name": "stderr",
     "output_type": "stream",
     "text": [
      "100%|██████████| 222/222 [03:56<00:00,  1.07s/it]\n",
      "100%|██████████| 8/8 [00:02<00:00,  2.74it/s]\n"
     ]
    },
    {
     "name": "stdout",
     "output_type": "stream",
     "text": [
      "Epoch: 182 | Time: 4m 1s\n",
      "\tTrain Loss: 2.567\n",
      "\t Val. Loss: 3.527\n"
     ]
    },
    {
     "name": "stderr",
     "output_type": "stream",
     "text": [
      "100%|██████████| 222/222 [03:58<00:00,  1.08s/it]\n",
      "100%|██████████| 8/8 [00:02<00:00,  2.83it/s]\n"
     ]
    },
    {
     "name": "stdout",
     "output_type": "stream",
     "text": [
      "Epoch: 183 | Time: 4m 3s\n",
      "\tTrain Loss: 2.563\n",
      "\t Val. Loss: 3.549\n"
     ]
    },
    {
     "name": "stderr",
     "output_type": "stream",
     "text": [
      "100%|██████████| 222/222 [03:56<00:00,  1.06s/it]\n",
      "100%|██████████| 8/8 [00:02<00:00,  2.79it/s]\n"
     ]
    },
    {
     "name": "stdout",
     "output_type": "stream",
     "text": [
      "Epoch: 184 | Time: 4m 0s\n",
      "\tTrain Loss: 2.566\n",
      "\t Val. Loss: 3.544\n"
     ]
    },
    {
     "name": "stderr",
     "output_type": "stream",
     "text": [
      "100%|██████████| 222/222 [03:52<00:00,  1.05s/it]\n",
      "100%|██████████| 8/8 [00:02<00:00,  2.77it/s]\n"
     ]
    },
    {
     "name": "stdout",
     "output_type": "stream",
     "text": [
      "Epoch: 185 | Time: 3m 57s\n",
      "\tTrain Loss: 2.562\n",
      "\t Val. Loss: 3.552\n"
     ]
    },
    {
     "name": "stderr",
     "output_type": "stream",
     "text": [
      "100%|██████████| 222/222 [03:57<00:00,  1.07s/it]\n",
      "100%|██████████| 8/8 [00:02<00:00,  2.81it/s]\n"
     ]
    },
    {
     "name": "stdout",
     "output_type": "stream",
     "text": [
      "Epoch: 186 | Time: 4m 2s\n",
      "\tTrain Loss: 2.564\n",
      "\t Val. Loss: 3.577\n"
     ]
    },
    {
     "name": "stderr",
     "output_type": "stream",
     "text": [
      "100%|██████████| 222/222 [03:52<00:00,  1.05s/it]\n",
      "100%|██████████| 8/8 [00:02<00:00,  2.80it/s]\n"
     ]
    },
    {
     "name": "stdout",
     "output_type": "stream",
     "text": [
      "Epoch: 187 | Time: 3m 56s\n",
      "\tTrain Loss: 2.565\n",
      "\t Val. Loss: 3.513\n"
     ]
    },
    {
     "name": "stderr",
     "output_type": "stream",
     "text": [
      "100%|██████████| 222/222 [03:52<00:00,  1.05s/it]\n",
      "100%|██████████| 8/8 [00:02<00:00,  2.81it/s]\n"
     ]
    },
    {
     "name": "stdout",
     "output_type": "stream",
     "text": [
      "Epoch: 188 | Time: 3m 57s\n",
      "\tTrain Loss: 2.561\n",
      "\t Val. Loss: 3.564\n"
     ]
    },
    {
     "name": "stderr",
     "output_type": "stream",
     "text": [
      "100%|██████████| 222/222 [03:54<00:00,  1.06s/it]\n",
      "100%|██████████| 8/8 [00:02<00:00,  2.77it/s]\n"
     ]
    },
    {
     "name": "stdout",
     "output_type": "stream",
     "text": [
      "Epoch: 189 | Time: 3m 59s\n",
      "\tTrain Loss: 2.559\n",
      "\t Val. Loss: 3.546\n"
     ]
    },
    {
     "name": "stderr",
     "output_type": "stream",
     "text": [
      "100%|██████████| 222/222 [03:51<00:00,  1.04s/it]\n",
      "100%|██████████| 8/8 [00:02<00:00,  2.84it/s]\n"
     ]
    },
    {
     "name": "stdout",
     "output_type": "stream",
     "text": [
      "Epoch: 190 | Time: 3m 56s\n",
      "\tTrain Loss: 2.565\n",
      "\t Val. Loss: 3.547\n"
     ]
    },
    {
     "name": "stderr",
     "output_type": "stream",
     "text": [
      "100%|██████████| 222/222 [03:57<00:00,  1.07s/it]\n",
      "100%|██████████| 8/8 [00:02<00:00,  2.79it/s]\n"
     ]
    },
    {
     "name": "stdout",
     "output_type": "stream",
     "text": [
      "Epoch: 191 | Time: 4m 2s\n",
      "\tTrain Loss: 2.560\n",
      "\t Val. Loss: 3.556\n"
     ]
    },
    {
     "name": "stderr",
     "output_type": "stream",
     "text": [
      "100%|██████████| 222/222 [03:56<00:00,  1.07s/it]\n",
      "100%|██████████| 8/8 [00:02<00:00,  2.84it/s]\n"
     ]
    },
    {
     "name": "stdout",
     "output_type": "stream",
     "text": [
      "Epoch: 192 | Time: 4m 1s\n",
      "\tTrain Loss: 2.558\n",
      "\t Val. Loss: 3.571\n"
     ]
    },
    {
     "name": "stderr",
     "output_type": "stream",
     "text": [
      "100%|██████████| 222/222 [03:47<00:00,  1.03s/it]\n",
      "100%|██████████| 8/8 [00:02<00:00,  2.82it/s]\n"
     ]
    },
    {
     "name": "stdout",
     "output_type": "stream",
     "text": [
      "Epoch: 193 | Time: 3m 52s\n",
      "\tTrain Loss: 2.555\n",
      "\t Val. Loss: 3.558\n"
     ]
    },
    {
     "name": "stderr",
     "output_type": "stream",
     "text": [
      "100%|██████████| 222/222 [03:49<00:00,  1.03s/it]\n",
      "100%|██████████| 8/8 [00:02<00:00,  2.77it/s]\n"
     ]
    },
    {
     "name": "stdout",
     "output_type": "stream",
     "text": [
      "Epoch: 194 | Time: 3m 54s\n",
      "\tTrain Loss: 2.561\n",
      "\t Val. Loss: 3.573\n"
     ]
    },
    {
     "name": "stderr",
     "output_type": "stream",
     "text": [
      "100%|██████████| 222/222 [03:59<00:00,  1.08s/it]\n",
      "100%|██████████| 8/8 [00:02<00:00,  2.80it/s]\n"
     ]
    },
    {
     "name": "stdout",
     "output_type": "stream",
     "text": [
      "Epoch: 195 | Time: 4m 4s\n",
      "\tTrain Loss: 2.561\n",
      "\t Val. Loss: 3.573\n"
     ]
    },
    {
     "name": "stderr",
     "output_type": "stream",
     "text": [
      "100%|██████████| 222/222 [03:57<00:00,  1.07s/it]\n",
      "100%|██████████| 8/8 [00:02<00:00,  2.73it/s]\n"
     ]
    },
    {
     "name": "stdout",
     "output_type": "stream",
     "text": [
      "Epoch: 196 | Time: 4m 1s\n",
      "\tTrain Loss: 2.560\n",
      "\t Val. Loss: 3.558\n"
     ]
    },
    {
     "name": "stderr",
     "output_type": "stream",
     "text": [
      "100%|██████████| 222/222 [03:56<00:00,  1.07s/it]\n",
      "100%|██████████| 8/8 [00:02<00:00,  2.81it/s]\n"
     ]
    },
    {
     "name": "stdout",
     "output_type": "stream",
     "text": [
      "Epoch: 197 | Time: 4m 1s\n",
      "\tTrain Loss: 2.557\n",
      "\t Val. Loss: 3.519\n"
     ]
    },
    {
     "name": "stderr",
     "output_type": "stream",
     "text": [
      "100%|██████████| 222/222 [03:54<00:00,  1.06s/it]\n",
      "100%|██████████| 8/8 [00:02<00:00,  2.82it/s]\n"
     ]
    },
    {
     "name": "stdout",
     "output_type": "stream",
     "text": [
      "Epoch: 198 | Time: 3m 58s\n",
      "\tTrain Loss: 2.558\n",
      "\t Val. Loss: 3.529\n"
     ]
    },
    {
     "name": "stderr",
     "output_type": "stream",
     "text": [
      "100%|██████████| 222/222 [03:52<00:00,  1.05s/it]\n",
      "100%|██████████| 8/8 [00:02<00:00,  2.80it/s]\n"
     ]
    },
    {
     "name": "stdout",
     "output_type": "stream",
     "text": [
      "Epoch: 199 | Time: 3m 57s\n",
      "\tTrain Loss: 2.555\n",
      "\t Val. Loss: 3.568\n"
     ]
    },
    {
     "name": "stderr",
     "output_type": "stream",
     "text": [
      "100%|██████████| 222/222 [03:53<00:00,  1.05s/it]\n",
      "100%|██████████| 8/8 [00:02<00:00,  2.79it/s]\n"
     ]
    },
    {
     "name": "stdout",
     "output_type": "stream",
     "text": [
      "Epoch: 200 | Time: 3m 58s\n",
      "\tTrain Loss: 2.550\n",
      "\t Val. Loss: 3.552\n"
     ]
    },
    {
     "name": "stderr",
     "output_type": "stream",
     "text": [
      "100%|██████████| 222/222 [03:53<00:00,  1.05s/it]\n",
      "100%|██████████| 8/8 [00:02<00:00,  2.80it/s]\n"
     ]
    },
    {
     "name": "stdout",
     "output_type": "stream",
     "text": [
      "Epoch: 201 | Time: 3m 58s\n",
      "\tTrain Loss: 2.556\n",
      "\t Val. Loss: 3.545\n"
     ]
    },
    {
     "name": "stderr",
     "output_type": "stream",
     "text": [
      "100%|██████████| 222/222 [03:54<00:00,  1.06s/it]\n",
      "100%|██████████| 8/8 [00:02<00:00,  2.79it/s]\n"
     ]
    },
    {
     "name": "stdout",
     "output_type": "stream",
     "text": [
      "Epoch: 202 | Time: 3m 59s\n",
      "\tTrain Loss: 2.557\n",
      "\t Val. Loss: 3.550\n"
     ]
    },
    {
     "name": "stderr",
     "output_type": "stream",
     "text": [
      "100%|██████████| 222/222 [03:51<00:00,  1.04s/it]\n",
      "100%|██████████| 8/8 [00:02<00:00,  2.82it/s]\n"
     ]
    },
    {
     "name": "stdout",
     "output_type": "stream",
     "text": [
      "Epoch: 203 | Time: 3m 56s\n",
      "\tTrain Loss: 2.557\n",
      "\t Val. Loss: 3.549\n"
     ]
    },
    {
     "name": "stderr",
     "output_type": "stream",
     "text": [
      "100%|██████████| 222/222 [03:54<00:00,  1.06s/it]\n",
      "100%|██████████| 8/8 [00:02<00:00,  2.80it/s]\n"
     ]
    },
    {
     "name": "stdout",
     "output_type": "stream",
     "text": [
      "Epoch: 204 | Time: 3m 58s\n",
      "\tTrain Loss: 2.553\n",
      "\t Val. Loss: 3.566\n"
     ]
    },
    {
     "name": "stderr",
     "output_type": "stream",
     "text": [
      "100%|██████████| 222/222 [03:55<00:00,  1.06s/it]\n",
      "100%|██████████| 8/8 [00:02<00:00,  2.82it/s]\n"
     ]
    },
    {
     "name": "stdout",
     "output_type": "stream",
     "text": [
      "Epoch: 205 | Time: 4m 0s\n",
      "\tTrain Loss: 2.556\n",
      "\t Val. Loss: 3.532\n"
     ]
    },
    {
     "name": "stderr",
     "output_type": "stream",
     "text": [
      "100%|██████████| 222/222 [03:56<00:00,  1.06s/it]\n",
      "100%|██████████| 8/8 [00:02<00:00,  2.87it/s]\n"
     ]
    },
    {
     "name": "stdout",
     "output_type": "stream",
     "text": [
      "Epoch: 206 | Time: 4m 0s\n",
      "\tTrain Loss: 2.555\n",
      "\t Val. Loss: 3.536\n"
     ]
    },
    {
     "name": "stderr",
     "output_type": "stream",
     "text": [
      "100%|██████████| 222/222 [03:56<00:00,  1.07s/it]\n",
      "100%|██████████| 8/8 [00:02<00:00,  2.77it/s]\n"
     ]
    },
    {
     "name": "stdout",
     "output_type": "stream",
     "text": [
      "Epoch: 207 | Time: 4m 1s\n",
      "\tTrain Loss: 2.554\n",
      "\t Val. Loss: 3.546\n"
     ]
    },
    {
     "name": "stderr",
     "output_type": "stream",
     "text": [
      "100%|██████████| 222/222 [03:52<00:00,  1.05s/it]\n",
      "100%|██████████| 8/8 [00:02<00:00,  2.82it/s]\n"
     ]
    },
    {
     "name": "stdout",
     "output_type": "stream",
     "text": [
      "Epoch: 208 | Time: 3m 57s\n",
      "\tTrain Loss: 2.556\n",
      "\t Val. Loss: 3.539\n"
     ]
    },
    {
     "name": "stderr",
     "output_type": "stream",
     "text": [
      "100%|██████████| 222/222 [03:54<00:00,  1.06s/it]\n",
      "100%|██████████| 8/8 [00:02<00:00,  2.83it/s]\n"
     ]
    },
    {
     "name": "stdout",
     "output_type": "stream",
     "text": [
      "Epoch: 209 | Time: 3m 59s\n",
      "\tTrain Loss: 2.552\n",
      "\t Val. Loss: 3.538\n"
     ]
    },
    {
     "name": "stderr",
     "output_type": "stream",
     "text": [
      "100%|██████████| 222/222 [03:58<00:00,  1.07s/it]\n",
      "100%|██████████| 8/8 [00:02<00:00,  2.76it/s]\n"
     ]
    },
    {
     "name": "stdout",
     "output_type": "stream",
     "text": [
      "Epoch: 210 | Time: 4m 2s\n",
      "\tTrain Loss: 2.552\n",
      "\t Val. Loss: 3.517\n"
     ]
    },
    {
     "name": "stderr",
     "output_type": "stream",
     "text": [
      "100%|██████████| 222/222 [03:57<00:00,  1.07s/it]\n",
      "100%|██████████| 8/8 [00:02<00:00,  2.79it/s]\n"
     ]
    },
    {
     "name": "stdout",
     "output_type": "stream",
     "text": [
      "Epoch: 211 | Time: 4m 1s\n",
      "\tTrain Loss: 2.554\n",
      "\t Val. Loss: 3.553\n"
     ]
    },
    {
     "name": "stderr",
     "output_type": "stream",
     "text": [
      "100%|██████████| 222/222 [03:56<00:00,  1.07s/it]\n",
      "100%|██████████| 8/8 [00:02<00:00,  2.79it/s]\n"
     ]
    },
    {
     "name": "stdout",
     "output_type": "stream",
     "text": [
      "Epoch: 212 | Time: 4m 0s\n",
      "\tTrain Loss: 2.557\n",
      "\t Val. Loss: 3.544\n"
     ]
    },
    {
     "name": "stderr",
     "output_type": "stream",
     "text": [
      "100%|██████████| 222/222 [03:53<00:00,  1.05s/it]\n",
      "100%|██████████| 8/8 [00:02<00:00,  2.78it/s]\n"
     ]
    },
    {
     "name": "stdout",
     "output_type": "stream",
     "text": [
      "Epoch: 213 | Time: 3m 58s\n",
      "\tTrain Loss: 2.555\n",
      "\t Val. Loss: 3.568\n"
     ]
    },
    {
     "name": "stderr",
     "output_type": "stream",
     "text": [
      "100%|██████████| 222/222 [03:56<00:00,  1.07s/it]\n",
      "100%|██████████| 8/8 [00:02<00:00,  2.71it/s]\n"
     ]
    },
    {
     "name": "stdout",
     "output_type": "stream",
     "text": [
      "Epoch: 214 | Time: 4m 1s\n",
      "\tTrain Loss: 2.557\n",
      "\t Val. Loss: 3.544\n"
     ]
    },
    {
     "name": "stderr",
     "output_type": "stream",
     "text": [
      "100%|██████████| 222/222 [03:50<00:00,  1.04s/it]\n",
      "100%|██████████| 8/8 [00:02<00:00,  2.80it/s]\n"
     ]
    },
    {
     "name": "stdout",
     "output_type": "stream",
     "text": [
      "Epoch: 215 | Time: 3m 54s\n",
      "\tTrain Loss: 2.553\n",
      "\t Val. Loss: 3.562\n"
     ]
    },
    {
     "name": "stderr",
     "output_type": "stream",
     "text": [
      "100%|██████████| 222/222 [03:52<00:00,  1.05s/it]\n",
      "100%|██████████| 8/8 [00:02<00:00,  2.82it/s]\n"
     ]
    },
    {
     "name": "stdout",
     "output_type": "stream",
     "text": [
      "Epoch: 216 | Time: 3m 57s\n",
      "\tTrain Loss: 2.555\n",
      "\t Val. Loss: 3.561\n"
     ]
    },
    {
     "name": "stderr",
     "output_type": "stream",
     "text": [
      "100%|██████████| 222/222 [03:52<00:00,  1.05s/it]\n",
      "100%|██████████| 8/8 [00:02<00:00,  2.82it/s]\n"
     ]
    },
    {
     "name": "stdout",
     "output_type": "stream",
     "text": [
      "Epoch: 217 | Time: 3m 56s\n",
      "\tTrain Loss: 2.551\n",
      "\t Val. Loss: 3.562\n"
     ]
    },
    {
     "name": "stderr",
     "output_type": "stream",
     "text": [
      "100%|██████████| 222/222 [03:56<00:00,  1.07s/it]\n",
      "100%|██████████| 8/8 [00:02<00:00,  2.88it/s]\n"
     ]
    },
    {
     "name": "stdout",
     "output_type": "stream",
     "text": [
      "Epoch: 218 | Time: 4m 1s\n",
      "\tTrain Loss: 2.552\n",
      "\t Val. Loss: 3.559\n"
     ]
    },
    {
     "name": "stderr",
     "output_type": "stream",
     "text": [
      "100%|██████████| 222/222 [03:55<00:00,  1.06s/it]\n",
      "100%|██████████| 8/8 [00:02<00:00,  2.76it/s]\n"
     ]
    },
    {
     "name": "stdout",
     "output_type": "stream",
     "text": [
      "Epoch: 219 | Time: 4m 0s\n",
      "\tTrain Loss: 2.552\n",
      "\t Val. Loss: 3.560\n"
     ]
    },
    {
     "name": "stderr",
     "output_type": "stream",
     "text": [
      "100%|██████████| 222/222 [03:51<00:00,  1.04s/it]\n",
      "100%|██████████| 8/8 [00:02<00:00,  2.81it/s]\n"
     ]
    },
    {
     "name": "stdout",
     "output_type": "stream",
     "text": [
      "Epoch: 220 | Time: 3m 56s\n",
      "\tTrain Loss: 2.553\n",
      "\t Val. Loss: 3.575\n"
     ]
    },
    {
     "name": "stderr",
     "output_type": "stream",
     "text": [
      "100%|██████████| 222/222 [03:53<00:00,  1.05s/it]\n",
      "100%|██████████| 8/8 [00:02<00:00,  2.80it/s]\n"
     ]
    },
    {
     "name": "stdout",
     "output_type": "stream",
     "text": [
      "Epoch: 221 | Time: 3m 57s\n",
      "\tTrain Loss: 2.551\n",
      "\t Val. Loss: 3.558\n"
     ]
    },
    {
     "name": "stderr",
     "output_type": "stream",
     "text": [
      "100%|██████████| 222/222 [03:55<00:00,  1.06s/it]\n",
      "100%|██████████| 8/8 [00:02<00:00,  2.86it/s]\n"
     ]
    },
    {
     "name": "stdout",
     "output_type": "stream",
     "text": [
      "Epoch: 222 | Time: 4m 0s\n",
      "\tTrain Loss: 2.553\n",
      "\t Val. Loss: 3.534\n"
     ]
    },
    {
     "name": "stderr",
     "output_type": "stream",
     "text": [
      "100%|██████████| 222/222 [04:00<00:00,  1.08s/it]\n",
      "100%|██████████| 8/8 [00:02<00:00,  2.81it/s]\n"
     ]
    },
    {
     "name": "stdout",
     "output_type": "stream",
     "text": [
      "Epoch: 223 | Time: 4m 4s\n",
      "\tTrain Loss: 2.549\n",
      "\t Val. Loss: 3.566\n"
     ]
    },
    {
     "name": "stderr",
     "output_type": "stream",
     "text": [
      "100%|██████████| 222/222 [03:54<00:00,  1.06s/it]\n",
      "100%|██████████| 8/8 [00:02<00:00,  2.80it/s]\n"
     ]
    },
    {
     "name": "stdout",
     "output_type": "stream",
     "text": [
      "Epoch: 224 | Time: 3m 59s\n",
      "\tTrain Loss: 2.549\n",
      "\t Val. Loss: 3.546\n"
     ]
    },
    {
     "name": "stderr",
     "output_type": "stream",
     "text": [
      "100%|██████████| 222/222 [03:58<00:00,  1.07s/it]\n",
      "100%|██████████| 8/8 [00:02<00:00,  2.78it/s]\n"
     ]
    },
    {
     "name": "stdout",
     "output_type": "stream",
     "text": [
      "Epoch: 225 | Time: 4m 2s\n",
      "\tTrain Loss: 2.549\n",
      "\t Val. Loss: 3.568\n"
     ]
    },
    {
     "name": "stderr",
     "output_type": "stream",
     "text": [
      "100%|██████████| 222/222 [03:58<00:00,  1.07s/it]\n",
      "100%|██████████| 8/8 [00:02<00:00,  2.76it/s]\n"
     ]
    },
    {
     "name": "stdout",
     "output_type": "stream",
     "text": [
      "Epoch: 226 | Time: 4m 2s\n",
      "\tTrain Loss: 2.552\n",
      "\t Val. Loss: 3.577\n"
     ]
    },
    {
     "name": "stderr",
     "output_type": "stream",
     "text": [
      "100%|██████████| 222/222 [03:58<00:00,  1.07s/it]\n",
      "100%|██████████| 8/8 [00:02<00:00,  2.82it/s]\n"
     ]
    },
    {
     "name": "stdout",
     "output_type": "stream",
     "text": [
      "Epoch: 227 | Time: 4m 2s\n",
      "\tTrain Loss: 2.548\n",
      "\t Val. Loss: 3.595\n"
     ]
    },
    {
     "name": "stderr",
     "output_type": "stream",
     "text": [
      "100%|██████████| 222/222 [03:58<00:00,  1.07s/it]\n",
      "100%|██████████| 8/8 [00:02<00:00,  2.79it/s]\n"
     ]
    },
    {
     "name": "stdout",
     "output_type": "stream",
     "text": [
      "Epoch: 228 | Time: 4m 2s\n",
      "\tTrain Loss: 2.549\n",
      "\t Val. Loss: 3.548\n"
     ]
    },
    {
     "name": "stderr",
     "output_type": "stream",
     "text": [
      "100%|██████████| 222/222 [03:50<00:00,  1.04s/it]\n",
      "100%|██████████| 8/8 [00:02<00:00,  2.83it/s]\n"
     ]
    },
    {
     "name": "stdout",
     "output_type": "stream",
     "text": [
      "Epoch: 229 | Time: 3m 54s\n",
      "\tTrain Loss: 2.552\n",
      "\t Val. Loss: 3.554\n"
     ]
    },
    {
     "name": "stderr",
     "output_type": "stream",
     "text": [
      "100%|██████████| 222/222 [03:54<00:00,  1.06s/it]\n",
      "100%|██████████| 8/8 [00:02<00:00,  2.83it/s]\n"
     ]
    },
    {
     "name": "stdout",
     "output_type": "stream",
     "text": [
      "Epoch: 230 | Time: 3m 59s\n",
      "\tTrain Loss: 2.550\n",
      "\t Val. Loss: 3.562\n"
     ]
    },
    {
     "name": "stderr",
     "output_type": "stream",
     "text": [
      "100%|██████████| 222/222 [03:50<00:00,  1.04s/it]\n",
      "100%|██████████| 8/8 [00:02<00:00,  2.84it/s]\n"
     ]
    },
    {
     "name": "stdout",
     "output_type": "stream",
     "text": [
      "Epoch: 231 | Time: 3m 54s\n",
      "\tTrain Loss: 2.549\n",
      "\t Val. Loss: 3.574\n"
     ]
    },
    {
     "name": "stderr",
     "output_type": "stream",
     "text": [
      "100%|██████████| 222/222 [03:52<00:00,  1.05s/it]\n",
      "100%|██████████| 8/8 [00:02<00:00,  2.81it/s]\n"
     ]
    },
    {
     "name": "stdout",
     "output_type": "stream",
     "text": [
      "Epoch: 232 | Time: 3m 57s\n",
      "\tTrain Loss: 2.544\n",
      "\t Val. Loss: 3.553\n"
     ]
    },
    {
     "name": "stderr",
     "output_type": "stream",
     "text": [
      "100%|██████████| 222/222 [03:57<00:00,  1.07s/it]\n",
      "100%|██████████| 8/8 [00:02<00:00,  2.82it/s]\n"
     ]
    },
    {
     "name": "stdout",
     "output_type": "stream",
     "text": [
      "Epoch: 233 | Time: 4m 1s\n",
      "\tTrain Loss: 2.547\n",
      "\t Val. Loss: 3.573\n"
     ]
    },
    {
     "name": "stderr",
     "output_type": "stream",
     "text": [
      "100%|██████████| 222/222 [03:56<00:00,  1.07s/it]\n",
      "100%|██████████| 8/8 [00:02<00:00,  2.80it/s]\n"
     ]
    },
    {
     "name": "stdout",
     "output_type": "stream",
     "text": [
      "Epoch: 234 | Time: 4m 1s\n",
      "\tTrain Loss: 2.546\n",
      "\t Val. Loss: 3.571\n"
     ]
    },
    {
     "name": "stderr",
     "output_type": "stream",
     "text": [
      "100%|██████████| 222/222 [03:54<00:00,  1.06s/it]\n",
      "100%|██████████| 8/8 [00:02<00:00,  2.74it/s]\n"
     ]
    },
    {
     "name": "stdout",
     "output_type": "stream",
     "text": [
      "Epoch: 235 | Time: 3m 59s\n",
      "\tTrain Loss: 2.553\n",
      "\t Val. Loss: 3.551\n"
     ]
    },
    {
     "name": "stderr",
     "output_type": "stream",
     "text": [
      "100%|██████████| 222/222 [03:54<00:00,  1.06s/it]\n",
      "100%|██████████| 8/8 [00:02<00:00,  2.78it/s]\n"
     ]
    },
    {
     "name": "stdout",
     "output_type": "stream",
     "text": [
      "Epoch: 236 | Time: 3m 58s\n",
      "\tTrain Loss: 2.549\n",
      "\t Val. Loss: 3.587\n"
     ]
    },
    {
     "name": "stderr",
     "output_type": "stream",
     "text": [
      "100%|██████████| 222/222 [03:55<00:00,  1.06s/it]\n",
      "100%|██████████| 8/8 [00:02<00:00,  2.81it/s]\n"
     ]
    },
    {
     "name": "stdout",
     "output_type": "stream",
     "text": [
      "Epoch: 237 | Time: 3m 59s\n",
      "\tTrain Loss: 2.546\n",
      "\t Val. Loss: 3.581\n"
     ]
    },
    {
     "name": "stderr",
     "output_type": "stream",
     "text": [
      "100%|██████████| 222/222 [03:56<00:00,  1.06s/it]\n",
      "100%|██████████| 8/8 [00:02<00:00,  2.82it/s]\n"
     ]
    },
    {
     "name": "stdout",
     "output_type": "stream",
     "text": [
      "Epoch: 238 | Time: 4m 0s\n",
      "\tTrain Loss: 2.549\n",
      "\t Val. Loss: 3.580\n"
     ]
    },
    {
     "name": "stderr",
     "output_type": "stream",
     "text": [
      "100%|██████████| 222/222 [03:54<00:00,  1.06s/it]\n",
      "100%|██████████| 8/8 [00:02<00:00,  2.81it/s]\n"
     ]
    },
    {
     "name": "stdout",
     "output_type": "stream",
     "text": [
      "Epoch: 239 | Time: 3m 59s\n",
      "\tTrain Loss: 2.544\n",
      "\t Val. Loss: 3.556\n"
     ]
    },
    {
     "name": "stderr",
     "output_type": "stream",
     "text": [
      "100%|██████████| 222/222 [03:55<00:00,  1.06s/it]\n",
      "100%|██████████| 8/8 [00:02<00:00,  2.81it/s]\n"
     ]
    },
    {
     "name": "stdout",
     "output_type": "stream",
     "text": [
      "Epoch: 240 | Time: 3m 59s\n",
      "\tTrain Loss: 2.545\n",
      "\t Val. Loss: 3.553\n"
     ]
    },
    {
     "name": "stderr",
     "output_type": "stream",
     "text": [
      "100%|██████████| 222/222 [03:49<00:00,  1.03s/it]\n",
      "100%|██████████| 8/8 [00:02<00:00,  2.93it/s]\n"
     ]
    },
    {
     "name": "stdout",
     "output_type": "stream",
     "text": [
      "Epoch: 241 | Time: 3m 53s\n",
      "\tTrain Loss: 2.544\n",
      "\t Val. Loss: 3.572\n"
     ]
    },
    {
     "name": "stderr",
     "output_type": "stream",
     "text": [
      "100%|██████████| 222/222 [03:52<00:00,  1.05s/it]\n",
      "100%|██████████| 8/8 [00:02<00:00,  2.83it/s]\n"
     ]
    },
    {
     "name": "stdout",
     "output_type": "stream",
     "text": [
      "Epoch: 242 | Time: 3m 56s\n",
      "\tTrain Loss: 2.545\n",
      "\t Val. Loss: 3.522\n"
     ]
    },
    {
     "name": "stderr",
     "output_type": "stream",
     "text": [
      "100%|██████████| 222/222 [03:52<00:00,  1.05s/it]\n",
      "100%|██████████| 8/8 [00:02<00:00,  2.77it/s]\n"
     ]
    },
    {
     "name": "stdout",
     "output_type": "stream",
     "text": [
      "Epoch: 243 | Time: 3m 56s\n",
      "\tTrain Loss: 2.545\n",
      "\t Val. Loss: 3.572\n"
     ]
    },
    {
     "name": "stderr",
     "output_type": "stream",
     "text": [
      "100%|██████████| 222/222 [03:52<00:00,  1.05s/it]\n",
      "100%|██████████| 8/8 [00:02<00:00,  2.83it/s]\n"
     ]
    },
    {
     "name": "stdout",
     "output_type": "stream",
     "text": [
      "Epoch: 244 | Time: 3m 57s\n",
      "\tTrain Loss: 2.548\n",
      "\t Val. Loss: 3.548\n"
     ]
    },
    {
     "name": "stderr",
     "output_type": "stream",
     "text": [
      "100%|██████████| 222/222 [03:50<00:00,  1.04s/it]\n",
      "100%|██████████| 8/8 [00:02<00:00,  2.69it/s]\n"
     ]
    },
    {
     "name": "stdout",
     "output_type": "stream",
     "text": [
      "Epoch: 245 | Time: 3m 54s\n",
      "\tTrain Loss: 2.547\n",
      "\t Val. Loss: 3.591\n"
     ]
    },
    {
     "name": "stderr",
     "output_type": "stream",
     "text": [
      "100%|██████████| 222/222 [03:55<00:00,  1.06s/it]\n",
      "100%|██████████| 8/8 [00:02<00:00,  2.80it/s]\n"
     ]
    },
    {
     "name": "stdout",
     "output_type": "stream",
     "text": [
      "Epoch: 246 | Time: 3m 59s\n",
      "\tTrain Loss: 2.545\n",
      "\t Val. Loss: 3.548\n"
     ]
    },
    {
     "name": "stderr",
     "output_type": "stream",
     "text": [
      "100%|██████████| 222/222 [03:57<00:00,  1.07s/it]\n",
      "100%|██████████| 8/8 [00:02<00:00,  2.82it/s]\n"
     ]
    },
    {
     "name": "stdout",
     "output_type": "stream",
     "text": [
      "Epoch: 247 | Time: 4m 2s\n",
      "\tTrain Loss: 2.544\n",
      "\t Val. Loss: 3.551\n"
     ]
    },
    {
     "name": "stderr",
     "output_type": "stream",
     "text": [
      "100%|██████████| 222/222 [03:53<00:00,  1.05s/it]\n",
      "100%|██████████| 8/8 [00:02<00:00,  2.76it/s]\n"
     ]
    },
    {
     "name": "stdout",
     "output_type": "stream",
     "text": [
      "Epoch: 248 | Time: 3m 57s\n",
      "\tTrain Loss: 2.543\n",
      "\t Val. Loss: 3.584\n"
     ]
    },
    {
     "name": "stderr",
     "output_type": "stream",
     "text": [
      "100%|██████████| 222/222 [03:57<00:00,  1.07s/it]\n",
      "100%|██████████| 8/8 [00:02<00:00,  2.78it/s]\n"
     ]
    },
    {
     "name": "stdout",
     "output_type": "stream",
     "text": [
      "Epoch: 249 | Time: 4m 1s\n",
      "\tTrain Loss: 2.544\n",
      "\t Val. Loss: 3.590\n"
     ]
    },
    {
     "name": "stderr",
     "output_type": "stream",
     "text": [
      "100%|██████████| 222/222 [03:54<00:00,  1.05s/it]\n",
      "100%|██████████| 8/8 [00:02<00:00,  2.75it/s]\n"
     ]
    },
    {
     "name": "stdout",
     "output_type": "stream",
     "text": [
      "Epoch: 250 | Time: 3m 58s\n",
      "\tTrain Loss: 2.543\n",
      "\t Val. Loss: 3.552\n"
     ]
    },
    {
     "name": "stderr",
     "output_type": "stream",
     "text": [
      "100%|██████████| 222/222 [03:56<00:00,  1.07s/it]\n",
      "100%|██████████| 8/8 [00:02<00:00,  2.83it/s]\n"
     ]
    },
    {
     "name": "stdout",
     "output_type": "stream",
     "text": [
      "Epoch: 251 | Time: 4m 0s\n",
      "\tTrain Loss: 2.545\n",
      "\t Val. Loss: 3.543\n"
     ]
    },
    {
     "name": "stderr",
     "output_type": "stream",
     "text": [
      "100%|██████████| 222/222 [03:58<00:00,  1.08s/it]\n",
      "100%|██████████| 8/8 [00:02<00:00,  2.88it/s]\n"
     ]
    },
    {
     "name": "stdout",
     "output_type": "stream",
     "text": [
      "Epoch: 252 | Time: 4m 3s\n",
      "\tTrain Loss: 2.544\n",
      "\t Val. Loss: 3.576\n"
     ]
    },
    {
     "name": "stderr",
     "output_type": "stream",
     "text": [
      "100%|██████████| 222/222 [03:52<00:00,  1.05s/it]\n",
      "100%|██████████| 8/8 [00:02<00:00,  2.81it/s]\n"
     ]
    },
    {
     "name": "stdout",
     "output_type": "stream",
     "text": [
      "Epoch: 253 | Time: 3m 56s\n",
      "\tTrain Loss: 2.542\n",
      "\t Val. Loss: 3.564\n"
     ]
    },
    {
     "name": "stderr",
     "output_type": "stream",
     "text": [
      "100%|██████████| 222/222 [03:52<00:00,  1.05s/it]\n",
      "100%|██████████| 8/8 [00:02<00:00,  2.81it/s]\n"
     ]
    },
    {
     "name": "stdout",
     "output_type": "stream",
     "text": [
      "Epoch: 254 | Time: 3m 57s\n",
      "\tTrain Loss: 2.537\n",
      "\t Val. Loss: 3.591\n"
     ]
    },
    {
     "name": "stderr",
     "output_type": "stream",
     "text": [
      "100%|██████████| 222/222 [03:51<00:00,  1.04s/it]\n",
      "100%|██████████| 8/8 [00:02<00:00,  2.83it/s]\n"
     ]
    },
    {
     "name": "stdout",
     "output_type": "stream",
     "text": [
      "Epoch: 255 | Time: 3m 56s\n",
      "\tTrain Loss: 2.541\n",
      "\t Val. Loss: 3.579\n"
     ]
    },
    {
     "name": "stderr",
     "output_type": "stream",
     "text": [
      "100%|██████████| 222/222 [03:54<00:00,  1.05s/it]\n",
      "100%|██████████| 8/8 [00:02<00:00,  2.87it/s]\n"
     ]
    },
    {
     "name": "stdout",
     "output_type": "stream",
     "text": [
      "Epoch: 256 | Time: 3m 58s\n",
      "\tTrain Loss: 2.542\n",
      "\t Val. Loss: 3.545\n"
     ]
    },
    {
     "name": "stderr",
     "output_type": "stream",
     "text": [
      "100%|██████████| 222/222 [03:50<00:00,  1.04s/it]\n",
      "100%|██████████| 8/8 [00:02<00:00,  2.84it/s]\n"
     ]
    },
    {
     "name": "stdout",
     "output_type": "stream",
     "text": [
      "Epoch: 257 | Time: 3m 54s\n",
      "\tTrain Loss: 2.543\n",
      "\t Val. Loss: 3.576\n"
     ]
    },
    {
     "name": "stderr",
     "output_type": "stream",
     "text": [
      "100%|██████████| 222/222 [03:49<00:00,  1.03s/it]\n",
      "100%|██████████| 8/8 [00:02<00:00,  2.84it/s]\n"
     ]
    },
    {
     "name": "stdout",
     "output_type": "stream",
     "text": [
      "Epoch: 258 | Time: 3m 54s\n",
      "\tTrain Loss: 2.544\n",
      "\t Val. Loss: 3.573\n"
     ]
    },
    {
     "name": "stderr",
     "output_type": "stream",
     "text": [
      "100%|██████████| 222/222 [03:53<00:00,  1.05s/it]\n",
      "100%|██████████| 8/8 [00:02<00:00,  2.85it/s]\n"
     ]
    },
    {
     "name": "stdout",
     "output_type": "stream",
     "text": [
      "Epoch: 259 | Time: 3m 57s\n",
      "\tTrain Loss: 2.538\n",
      "\t Val. Loss: 3.602\n"
     ]
    },
    {
     "name": "stderr",
     "output_type": "stream",
     "text": [
      "100%|██████████| 222/222 [03:50<00:00,  1.04s/it]\n",
      "100%|██████████| 8/8 [00:02<00:00,  2.84it/s]\n"
     ]
    },
    {
     "name": "stdout",
     "output_type": "stream",
     "text": [
      "Epoch: 260 | Time: 3m 55s\n",
      "\tTrain Loss: 2.544\n",
      "\t Val. Loss: 3.588\n"
     ]
    },
    {
     "name": "stderr",
     "output_type": "stream",
     "text": [
      "100%|██████████| 222/222 [03:48<00:00,  1.03s/it]\n",
      "100%|██████████| 8/8 [00:02<00:00,  2.88it/s]\n"
     ]
    },
    {
     "name": "stdout",
     "output_type": "stream",
     "text": [
      "Epoch: 261 | Time: 3m 52s\n",
      "\tTrain Loss: 2.538\n",
      "\t Val. Loss: 3.578\n"
     ]
    },
    {
     "name": "stderr",
     "output_type": "stream",
     "text": [
      "100%|██████████| 222/222 [03:50<00:00,  1.04s/it]\n",
      "100%|██████████| 8/8 [00:02<00:00,  2.77it/s]\n"
     ]
    },
    {
     "name": "stdout",
     "output_type": "stream",
     "text": [
      "Epoch: 262 | Time: 3m 54s\n",
      "\tTrain Loss: 2.546\n",
      "\t Val. Loss: 3.563\n"
     ]
    },
    {
     "name": "stderr",
     "output_type": "stream",
     "text": [
      "100%|██████████| 222/222 [03:50<00:00,  1.04s/it]\n",
      "100%|██████████| 8/8 [00:02<00:00,  2.81it/s]\n"
     ]
    },
    {
     "name": "stdout",
     "output_type": "stream",
     "text": [
      "Epoch: 263 | Time: 3m 55s\n",
      "\tTrain Loss: 2.541\n",
      "\t Val. Loss: 3.573\n"
     ]
    },
    {
     "name": "stderr",
     "output_type": "stream",
     "text": [
      "100%|██████████| 222/222 [03:51<00:00,  1.04s/it]\n",
      "100%|██████████| 8/8 [00:02<00:00,  2.85it/s]\n"
     ]
    },
    {
     "name": "stdout",
     "output_type": "stream",
     "text": [
      "Epoch: 264 | Time: 3m 55s\n",
      "\tTrain Loss: 2.540\n",
      "\t Val. Loss: 3.559\n"
     ]
    },
    {
     "name": "stderr",
     "output_type": "stream",
     "text": [
      "100%|██████████| 222/222 [03:50<00:00,  1.04s/it]\n",
      "100%|██████████| 8/8 [00:02<00:00,  2.80it/s]\n"
     ]
    },
    {
     "name": "stdout",
     "output_type": "stream",
     "text": [
      "Epoch: 265 | Time: 3m 55s\n",
      "\tTrain Loss: 2.540\n",
      "\t Val. Loss: 3.563\n"
     ]
    },
    {
     "name": "stderr",
     "output_type": "stream",
     "text": [
      "100%|██████████| 222/222 [03:50<00:00,  1.04s/it]\n",
      "100%|██████████| 8/8 [00:02<00:00,  2.79it/s]\n"
     ]
    },
    {
     "name": "stdout",
     "output_type": "stream",
     "text": [
      "Epoch: 266 | Time: 3m 54s\n",
      "\tTrain Loss: 2.536\n",
      "\t Val. Loss: 3.573\n"
     ]
    },
    {
     "name": "stderr",
     "output_type": "stream",
     "text": [
      "100%|██████████| 222/222 [03:58<00:00,  1.07s/it]\n",
      "100%|██████████| 8/8 [00:02<00:00,  2.87it/s]\n"
     ]
    },
    {
     "name": "stdout",
     "output_type": "stream",
     "text": [
      "Epoch: 267 | Time: 4m 2s\n",
      "\tTrain Loss: 2.536\n",
      "\t Val. Loss: 3.588\n"
     ]
    },
    {
     "name": "stderr",
     "output_type": "stream",
     "text": [
      " 97%|█████████▋| 216/222 [03:51<00:06,  1.07s/it]\n"
     ]
    },
    {
     "ename": "KeyboardInterrupt",
     "evalue": "",
     "output_type": "error",
     "traceback": [
      "\u001b[1;31m---------------------------------------------------------------------------\u001b[0m",
      "\u001b[1;31mKeyboardInterrupt\u001b[0m                         Traceback (most recent call last)",
      "\u001b[1;32mc:\\Users\\tln229\\Documents\\Codes\\VENV1\\.venv\\CODE\\English_to_Python.ipynb Cell 39\u001b[0m line \u001b[0;36m3\n\u001b[0;32m     <a href='vscode-notebook-cell:/c%3A/Users/tln229/Documents/Codes/VENV1/.venv/CODE/English_to_Python.ipynb#Y110sZmlsZQ%3D%3D?line=27'>28</a>\u001b[0m BATCH_SIZE \u001b[39m=\u001b[39m \u001b[39m16\u001b[39m\n\u001b[0;32m     <a href='vscode-notebook-cell:/c%3A/Users/tln229/Documents/Codes/VENV1/.venv/CODE/English_to_Python.ipynb#Y110sZmlsZQ%3D%3D?line=28'>29</a>\u001b[0m train_iterator, valid_iterator \u001b[39m=\u001b[39m BucketIterator\u001b[39m.\u001b[39msplits((train_data, valid_data), batch_size \u001b[39m=\u001b[39m BATCH_SIZE, sort_key \u001b[39m=\u001b[39m \u001b[39mlambda\u001b[39;00m x: \u001b[39mlen\u001b[39m(x\u001b[39m.\u001b[39mInput), sort_within_batch\u001b[39m=\u001b[39m\u001b[39mTrue\u001b[39;00m, device \u001b[39m=\u001b[39m device)\n\u001b[1;32m---> <a href='vscode-notebook-cell:/c%3A/Users/tln229/Documents/Codes/VENV1/.venv/CODE/English_to_Python.ipynb#Y110sZmlsZQ%3D%3D?line=30'>31</a>\u001b[0m train_loss \u001b[39m=\u001b[39m train(model, train_iterator, optimizer, criterion, CLIP)\n\u001b[0;32m     <a href='vscode-notebook-cell:/c%3A/Users/tln229/Documents/Codes/VENV1/.venv/CODE/English_to_Python.ipynb#Y110sZmlsZQ%3D%3D?line=31'>32</a>\u001b[0m valid_loss \u001b[39m=\u001b[39m evaluate(model, valid_iterator, criterion)\n\u001b[0;32m     <a href='vscode-notebook-cell:/c%3A/Users/tln229/Documents/Codes/VENV1/.venv/CODE/English_to_Python.ipynb#Y110sZmlsZQ%3D%3D?line=33'>34</a>\u001b[0m end_time \u001b[39m=\u001b[39m time\u001b[39m.\u001b[39mtime()\n",
      "\u001b[1;32mc:\\Users\\tln229\\Documents\\Codes\\VENV1\\.venv\\CODE\\English_to_Python.ipynb Cell 39\u001b[0m line \u001b[0;36m1\n\u001b[0;32m     <a href='vscode-notebook-cell:/c%3A/Users/tln229/Documents/Codes/VENV1/.venv/CODE/English_to_Python.ipynb#Y110sZmlsZQ%3D%3D?line=15'>16</a>\u001b[0m trg_mask \u001b[39m=\u001b[39m make_trg_mask(trg)\n\u001b[0;32m     <a href='vscode-notebook-cell:/c%3A/Users/tln229/Documents/Codes/VENV1/.venv/CODE/English_to_Python.ipynb#Y110sZmlsZQ%3D%3D?line=16'>17</a>\u001b[0m optimizer\u001b[39m.\u001b[39mzero_grad()\n\u001b[1;32m---> <a href='vscode-notebook-cell:/c%3A/Users/tln229/Documents/Codes/VENV1/.venv/CODE/English_to_Python.ipynb#Y110sZmlsZQ%3D%3D?line=17'>18</a>\u001b[0m output, _ \u001b[39m=\u001b[39m model(src, trg[:,:\u001b[39m-\u001b[39;49m\u001b[39m1\u001b[39;49m])\n\u001b[0;32m     <a href='vscode-notebook-cell:/c%3A/Users/tln229/Documents/Codes/VENV1/.venv/CODE/English_to_Python.ipynb#Y110sZmlsZQ%3D%3D?line=18'>19</a>\u001b[0m output_dim \u001b[39m=\u001b[39m output\u001b[39m.\u001b[39mshape[\u001b[39m-\u001b[39m\u001b[39m1\u001b[39m]\n\u001b[0;32m     <a href='vscode-notebook-cell:/c%3A/Users/tln229/Documents/Codes/VENV1/.venv/CODE/English_to_Python.ipynb#Y110sZmlsZQ%3D%3D?line=19'>20</a>\u001b[0m output \u001b[39m=\u001b[39m output\u001b[39m.\u001b[39mcontiguous()\u001b[39m.\u001b[39mview(\u001b[39m-\u001b[39m\u001b[39m1\u001b[39m, output_dim)\n",
      "File \u001b[1;32mc:\\Users\\tln229\\Documents\\Codes\\VENV1\\.venv\\lib\\site-packages\\torch\\nn\\modules\\module.py:889\u001b[0m, in \u001b[0;36mModule._call_impl\u001b[1;34m(self, *input, **kwargs)\u001b[0m\n\u001b[0;32m    887\u001b[0m     result \u001b[39m=\u001b[39m \u001b[39mself\u001b[39m\u001b[39m.\u001b[39m_slow_forward(\u001b[39m*\u001b[39m\u001b[39minput\u001b[39m, \u001b[39m*\u001b[39m\u001b[39m*\u001b[39mkwargs)\n\u001b[0;32m    888\u001b[0m \u001b[39melse\u001b[39;00m:\n\u001b[1;32m--> 889\u001b[0m     result \u001b[39m=\u001b[39m \u001b[39mself\u001b[39m\u001b[39m.\u001b[39mforward(\u001b[39m*\u001b[39m\u001b[39minput\u001b[39m, \u001b[39m*\u001b[39m\u001b[39m*\u001b[39mkwargs)\n\u001b[0;32m    890\u001b[0m \u001b[39mfor\u001b[39;00m hook \u001b[39min\u001b[39;00m itertools\u001b[39m.\u001b[39mchain(\n\u001b[0;32m    891\u001b[0m         _global_forward_hooks\u001b[39m.\u001b[39mvalues(),\n\u001b[0;32m    892\u001b[0m         \u001b[39mself\u001b[39m\u001b[39m.\u001b[39m_forward_hooks\u001b[39m.\u001b[39mvalues()):\n\u001b[0;32m    893\u001b[0m     hook_result \u001b[39m=\u001b[39m hook(\u001b[39mself\u001b[39m, \u001b[39minput\u001b[39m, result)\n",
      "\u001b[1;32mc:\\Users\\tln229\\Documents\\Codes\\VENV1\\.venv\\CODE\\English_to_Python.ipynb Cell 39\u001b[0m line \u001b[0;36m2\n\u001b[0;32m     <a href='vscode-notebook-cell:/c%3A/Users/tln229/Documents/Codes/VENV1/.venv/CODE/English_to_Python.ipynb#Y110sZmlsZQ%3D%3D?line=24'>25</a>\u001b[0m trg_mask \u001b[39m=\u001b[39m \u001b[39mself\u001b[39m\u001b[39m.\u001b[39mmake_trg_mask(trg)\n\u001b[0;32m     <a href='vscode-notebook-cell:/c%3A/Users/tln229/Documents/Codes/VENV1/.venv/CODE/English_to_Python.ipynb#Y110sZmlsZQ%3D%3D?line=25'>26</a>\u001b[0m enc_src  \u001b[39m=\u001b[39m \u001b[39mself\u001b[39m\u001b[39m.\u001b[39mencoder(src, src_mask)   \n\u001b[1;32m---> <a href='vscode-notebook-cell:/c%3A/Users/tln229/Documents/Codes/VENV1/.venv/CODE/English_to_Python.ipynb#Y110sZmlsZQ%3D%3D?line=26'>27</a>\u001b[0m output, attention \u001b[39m=\u001b[39m \u001b[39mself\u001b[39;49m\u001b[39m.\u001b[39;49mdecoder(trg, enc_src, trg_mask, src_mask)\n\u001b[0;32m     <a href='vscode-notebook-cell:/c%3A/Users/tln229/Documents/Codes/VENV1/.venv/CODE/English_to_Python.ipynb#Y110sZmlsZQ%3D%3D?line=28'>29</a>\u001b[0m \u001b[39mreturn\u001b[39;00m output, attention\n",
      "File \u001b[1;32mc:\\Users\\tln229\\Documents\\Codes\\VENV1\\.venv\\lib\\site-packages\\torch\\nn\\modules\\module.py:889\u001b[0m, in \u001b[0;36mModule._call_impl\u001b[1;34m(self, *input, **kwargs)\u001b[0m\n\u001b[0;32m    887\u001b[0m     result \u001b[39m=\u001b[39m \u001b[39mself\u001b[39m\u001b[39m.\u001b[39m_slow_forward(\u001b[39m*\u001b[39m\u001b[39minput\u001b[39m, \u001b[39m*\u001b[39m\u001b[39m*\u001b[39mkwargs)\n\u001b[0;32m    888\u001b[0m \u001b[39melse\u001b[39;00m:\n\u001b[1;32m--> 889\u001b[0m     result \u001b[39m=\u001b[39m \u001b[39mself\u001b[39m\u001b[39m.\u001b[39mforward(\u001b[39m*\u001b[39m\u001b[39minput\u001b[39m, \u001b[39m*\u001b[39m\u001b[39m*\u001b[39mkwargs)\n\u001b[0;32m    890\u001b[0m \u001b[39mfor\u001b[39;00m hook \u001b[39min\u001b[39;00m itertools\u001b[39m.\u001b[39mchain(\n\u001b[0;32m    891\u001b[0m         _global_forward_hooks\u001b[39m.\u001b[39mvalues(),\n\u001b[0;32m    892\u001b[0m         \u001b[39mself\u001b[39m\u001b[39m.\u001b[39m_forward_hooks\u001b[39m.\u001b[39mvalues()):\n\u001b[0;32m    893\u001b[0m     hook_result \u001b[39m=\u001b[39m hook(\u001b[39mself\u001b[39m, \u001b[39minput\u001b[39m, result)\n",
      "\u001b[1;32mc:\\Users\\tln229\\Documents\\Codes\\VENV1\\.venv\\CODE\\English_to_Python.ipynb Cell 39\u001b[0m line \u001b[0;36m2\n\u001b[0;32m     <a href='vscode-notebook-cell:/c%3A/Users/tln229/Documents/Codes/VENV1/.venv/CODE/English_to_Python.ipynb#Y110sZmlsZQ%3D%3D?line=17'>18</a>\u001b[0m trg \u001b[39m=\u001b[39m \u001b[39mself\u001b[39m\u001b[39m.\u001b[39mdropout((\u001b[39mself\u001b[39m\u001b[39m.\u001b[39mtok_embedding(trg) \u001b[39m*\u001b[39m \u001b[39mself\u001b[39m\u001b[39m.\u001b[39mscale) \u001b[39m+\u001b[39m \u001b[39mself\u001b[39m\u001b[39m.\u001b[39mpos_embedding(pos))\n\u001b[0;32m     <a href='vscode-notebook-cell:/c%3A/Users/tln229/Documents/Codes/VENV1/.venv/CODE/English_to_Python.ipynb#Y110sZmlsZQ%3D%3D?line=19'>20</a>\u001b[0m \u001b[39mfor\u001b[39;00m layer \u001b[39min\u001b[39;00m \u001b[39mself\u001b[39m\u001b[39m.\u001b[39mlayers:\n\u001b[1;32m---> <a href='vscode-notebook-cell:/c%3A/Users/tln229/Documents/Codes/VENV1/.venv/CODE/English_to_Python.ipynb#Y110sZmlsZQ%3D%3D?line=20'>21</a>\u001b[0m     trg, attention \u001b[39m=\u001b[39m layer(trg, enc_src, trg_mask, src_mask)\n\u001b[0;32m     <a href='vscode-notebook-cell:/c%3A/Users/tln229/Documents/Codes/VENV1/.venv/CODE/English_to_Python.ipynb#Y110sZmlsZQ%3D%3D?line=22'>23</a>\u001b[0m output \u001b[39m=\u001b[39m \u001b[39mself\u001b[39m\u001b[39m.\u001b[39mfc_out(trg)\n\u001b[0;32m     <a href='vscode-notebook-cell:/c%3A/Users/tln229/Documents/Codes/VENV1/.venv/CODE/English_to_Python.ipynb#Y110sZmlsZQ%3D%3D?line=23'>24</a>\u001b[0m \u001b[39mreturn\u001b[39;00m output, attention\n",
      "File \u001b[1;32mc:\\Users\\tln229\\Documents\\Codes\\VENV1\\.venv\\lib\\site-packages\\torch\\nn\\modules\\module.py:889\u001b[0m, in \u001b[0;36mModule._call_impl\u001b[1;34m(self, *input, **kwargs)\u001b[0m\n\u001b[0;32m    887\u001b[0m     result \u001b[39m=\u001b[39m \u001b[39mself\u001b[39m\u001b[39m.\u001b[39m_slow_forward(\u001b[39m*\u001b[39m\u001b[39minput\u001b[39m, \u001b[39m*\u001b[39m\u001b[39m*\u001b[39mkwargs)\n\u001b[0;32m    888\u001b[0m \u001b[39melse\u001b[39;00m:\n\u001b[1;32m--> 889\u001b[0m     result \u001b[39m=\u001b[39m \u001b[39mself\u001b[39m\u001b[39m.\u001b[39mforward(\u001b[39m*\u001b[39m\u001b[39minput\u001b[39m, \u001b[39m*\u001b[39m\u001b[39m*\u001b[39mkwargs)\n\u001b[0;32m    890\u001b[0m \u001b[39mfor\u001b[39;00m hook \u001b[39min\u001b[39;00m itertools\u001b[39m.\u001b[39mchain(\n\u001b[0;32m    891\u001b[0m         _global_forward_hooks\u001b[39m.\u001b[39mvalues(),\n\u001b[0;32m    892\u001b[0m         \u001b[39mself\u001b[39m\u001b[39m.\u001b[39m_forward_hooks\u001b[39m.\u001b[39mvalues()):\n\u001b[0;32m    893\u001b[0m     hook_result \u001b[39m=\u001b[39m hook(\u001b[39mself\u001b[39m, \u001b[39minput\u001b[39m, result)\n",
      "\u001b[1;32mc:\\Users\\tln229\\Documents\\Codes\\VENV1\\.venv\\CODE\\English_to_Python.ipynb Cell 39\u001b[0m line \u001b[0;36m1\n\u001b[0;32m     <a href='vscode-notebook-cell:/c%3A/Users/tln229/Documents/Codes/VENV1/.venv/CODE/English_to_Python.ipynb#Y110sZmlsZQ%3D%3D?line=12'>13</a>\u001b[0m \u001b[39mdef\u001b[39;00m \u001b[39mforward\u001b[39m(\u001b[39mself\u001b[39m, trg, enc_src, trg_mask, src_mask):\n\u001b[1;32m---> <a href='vscode-notebook-cell:/c%3A/Users/tln229/Documents/Codes/VENV1/.venv/CODE/English_to_Python.ipynb#Y110sZmlsZQ%3D%3D?line=13'>14</a>\u001b[0m     _trg, _         \u001b[39m=\u001b[39m \u001b[39mself\u001b[39;49m\u001b[39m.\u001b[39;49mself_attention(trg, trg, trg, trg_mask)\n\u001b[0;32m     <a href='vscode-notebook-cell:/c%3A/Users/tln229/Documents/Codes/VENV1/.venv/CODE/English_to_Python.ipynb#Y110sZmlsZQ%3D%3D?line=14'>15</a>\u001b[0m     trg             \u001b[39m=\u001b[39m \u001b[39mself\u001b[39m\u001b[39m.\u001b[39mself_attn_layer_norm(trg \u001b[39m+\u001b[39m \u001b[39mself\u001b[39m\u001b[39m.\u001b[39mdropout(_trg))\n\u001b[0;32m     <a href='vscode-notebook-cell:/c%3A/Users/tln229/Documents/Codes/VENV1/.venv/CODE/English_to_Python.ipynb#Y110sZmlsZQ%3D%3D?line=15'>16</a>\u001b[0m     _trg, attention \u001b[39m=\u001b[39m \u001b[39mself\u001b[39m\u001b[39m.\u001b[39mencoder_attention(trg, enc_src, enc_src, src_mask)\n",
      "File \u001b[1;32mc:\\Users\\tln229\\Documents\\Codes\\VENV1\\.venv\\lib\\site-packages\\torch\\nn\\modules\\module.py:889\u001b[0m, in \u001b[0;36mModule._call_impl\u001b[1;34m(self, *input, **kwargs)\u001b[0m\n\u001b[0;32m    887\u001b[0m     result \u001b[39m=\u001b[39m \u001b[39mself\u001b[39m\u001b[39m.\u001b[39m_slow_forward(\u001b[39m*\u001b[39m\u001b[39minput\u001b[39m, \u001b[39m*\u001b[39m\u001b[39m*\u001b[39mkwargs)\n\u001b[0;32m    888\u001b[0m \u001b[39melse\u001b[39;00m:\n\u001b[1;32m--> 889\u001b[0m     result \u001b[39m=\u001b[39m \u001b[39mself\u001b[39m\u001b[39m.\u001b[39mforward(\u001b[39m*\u001b[39m\u001b[39minput\u001b[39m, \u001b[39m*\u001b[39m\u001b[39m*\u001b[39mkwargs)\n\u001b[0;32m    890\u001b[0m \u001b[39mfor\u001b[39;00m hook \u001b[39min\u001b[39;00m itertools\u001b[39m.\u001b[39mchain(\n\u001b[0;32m    891\u001b[0m         _global_forward_hooks\u001b[39m.\u001b[39mvalues(),\n\u001b[0;32m    892\u001b[0m         \u001b[39mself\u001b[39m\u001b[39m.\u001b[39m_forward_hooks\u001b[39m.\u001b[39mvalues()):\n\u001b[0;32m    893\u001b[0m     hook_result \u001b[39m=\u001b[39m hook(\u001b[39mself\u001b[39m, \u001b[39minput\u001b[39m, result)\n",
      "\u001b[1;32mc:\\Users\\tln229\\Documents\\Codes\\VENV1\\.venv\\CODE\\English_to_Python.ipynb Cell 39\u001b[0m line \u001b[0;36m2\n\u001b[0;32m     <a href='vscode-notebook-cell:/c%3A/Users/tln229/Documents/Codes/VENV1/.venv/CODE/English_to_Python.ipynb#Y110sZmlsZQ%3D%3D?line=21'>22</a>\u001b[0m Q \u001b[39m=\u001b[39m \u001b[39mself\u001b[39m\u001b[39m.\u001b[39mfc_q(query)\n\u001b[0;32m     <a href='vscode-notebook-cell:/c%3A/Users/tln229/Documents/Codes/VENV1/.venv/CODE/English_to_Python.ipynb#Y110sZmlsZQ%3D%3D?line=22'>23</a>\u001b[0m K \u001b[39m=\u001b[39m \u001b[39mself\u001b[39m\u001b[39m.\u001b[39mfc_k(key)\n\u001b[1;32m---> <a href='vscode-notebook-cell:/c%3A/Users/tln229/Documents/Codes/VENV1/.venv/CODE/English_to_Python.ipynb#Y110sZmlsZQ%3D%3D?line=23'>24</a>\u001b[0m V \u001b[39m=\u001b[39m \u001b[39mself\u001b[39;49m\u001b[39m.\u001b[39;49mfc_v(value)\n\u001b[0;32m     <a href='vscode-notebook-cell:/c%3A/Users/tln229/Documents/Codes/VENV1/.venv/CODE/English_to_Python.ipynb#Y110sZmlsZQ%3D%3D?line=25'>26</a>\u001b[0m Q \u001b[39m=\u001b[39m Q\u001b[39m.\u001b[39mview(batch_size, \u001b[39m-\u001b[39m\u001b[39m1\u001b[39m, \u001b[39mself\u001b[39m\u001b[39m.\u001b[39mn_heads, \u001b[39mself\u001b[39m\u001b[39m.\u001b[39mhead_dim)\u001b[39m.\u001b[39mpermute(\u001b[39m0\u001b[39m, \u001b[39m2\u001b[39m, \u001b[39m1\u001b[39m, \u001b[39m3\u001b[39m)\n\u001b[0;32m     <a href='vscode-notebook-cell:/c%3A/Users/tln229/Documents/Codes/VENV1/.venv/CODE/English_to_Python.ipynb#Y110sZmlsZQ%3D%3D?line=26'>27</a>\u001b[0m K \u001b[39m=\u001b[39m K\u001b[39m.\u001b[39mview(batch_size, \u001b[39m-\u001b[39m\u001b[39m1\u001b[39m, \u001b[39mself\u001b[39m\u001b[39m.\u001b[39mn_heads, \u001b[39mself\u001b[39m\u001b[39m.\u001b[39mhead_dim)\u001b[39m.\u001b[39mpermute(\u001b[39m0\u001b[39m, \u001b[39m2\u001b[39m, \u001b[39m1\u001b[39m, \u001b[39m3\u001b[39m)\n",
      "File \u001b[1;32mc:\\Users\\tln229\\Documents\\Codes\\VENV1\\.venv\\lib\\site-packages\\torch\\nn\\modules\\module.py:889\u001b[0m, in \u001b[0;36mModule._call_impl\u001b[1;34m(self, *input, **kwargs)\u001b[0m\n\u001b[0;32m    887\u001b[0m     result \u001b[39m=\u001b[39m \u001b[39mself\u001b[39m\u001b[39m.\u001b[39m_slow_forward(\u001b[39m*\u001b[39m\u001b[39minput\u001b[39m, \u001b[39m*\u001b[39m\u001b[39m*\u001b[39mkwargs)\n\u001b[0;32m    888\u001b[0m \u001b[39melse\u001b[39;00m:\n\u001b[1;32m--> 889\u001b[0m     result \u001b[39m=\u001b[39m \u001b[39mself\u001b[39m\u001b[39m.\u001b[39mforward(\u001b[39m*\u001b[39m\u001b[39minput\u001b[39m, \u001b[39m*\u001b[39m\u001b[39m*\u001b[39mkwargs)\n\u001b[0;32m    890\u001b[0m \u001b[39mfor\u001b[39;00m hook \u001b[39min\u001b[39;00m itertools\u001b[39m.\u001b[39mchain(\n\u001b[0;32m    891\u001b[0m         _global_forward_hooks\u001b[39m.\u001b[39mvalues(),\n\u001b[0;32m    892\u001b[0m         \u001b[39mself\u001b[39m\u001b[39m.\u001b[39m_forward_hooks\u001b[39m.\u001b[39mvalues()):\n\u001b[0;32m    893\u001b[0m     hook_result \u001b[39m=\u001b[39m hook(\u001b[39mself\u001b[39m, \u001b[39minput\u001b[39m, result)\n",
      "File \u001b[1;32mc:\\Users\\tln229\\Documents\\Codes\\VENV1\\.venv\\lib\\site-packages\\torch\\nn\\modules\\linear.py:94\u001b[0m, in \u001b[0;36mLinear.forward\u001b[1;34m(self, input)\u001b[0m\n\u001b[0;32m     93\u001b[0m \u001b[39mdef\u001b[39;00m \u001b[39mforward\u001b[39m(\u001b[39mself\u001b[39m, \u001b[39minput\u001b[39m: Tensor) \u001b[39m-\u001b[39m\u001b[39m>\u001b[39m Tensor:\n\u001b[1;32m---> 94\u001b[0m     \u001b[39mreturn\u001b[39;00m F\u001b[39m.\u001b[39;49mlinear(\u001b[39minput\u001b[39;49m, \u001b[39mself\u001b[39;49m\u001b[39m.\u001b[39;49mweight, \u001b[39mself\u001b[39;49m\u001b[39m.\u001b[39;49mbias)\n",
      "File \u001b[1;32mc:\\Users\\tln229\\Documents\\Codes\\VENV1\\.venv\\lib\\site-packages\\torch\\nn\\functional.py:1753\u001b[0m, in \u001b[0;36mlinear\u001b[1;34m(input, weight, bias)\u001b[0m\n\u001b[0;32m   1751\u001b[0m \u001b[39mif\u001b[39;00m has_torch_function_variadic(\u001b[39minput\u001b[39m, weight):\n\u001b[0;32m   1752\u001b[0m     \u001b[39mreturn\u001b[39;00m handle_torch_function(linear, (\u001b[39minput\u001b[39m, weight), \u001b[39minput\u001b[39m, weight, bias\u001b[39m=\u001b[39mbias)\n\u001b[1;32m-> 1753\u001b[0m \u001b[39mreturn\u001b[39;00m torch\u001b[39m.\u001b[39;49m_C\u001b[39m.\u001b[39;49m_nn\u001b[39m.\u001b[39;49mlinear(\u001b[39minput\u001b[39;49m, weight, bias)\n",
      "\u001b[1;31mKeyboardInterrupt\u001b[0m: "
     ]
    }
   ],
   "source": [
    "N_EPOCHS = 1000\n",
    "CLIP = 1\n",
    "\n",
    "best_valid_loss = float('inf')\n",
    "\n",
    "for epoch in range(N_EPOCHS):\n",
    "    start_time = time.time()\n",
    "    train_example = []\n",
    "    val_example = []\n",
    "\n",
    "    for i in range(train_df.shape[0]):\n",
    "        try:\n",
    "            ex = data.Example.fromlist([train_df.question[i], train_df.solution[i]], fields)\n",
    "            train_example.append(ex)\n",
    "        except:\n",
    "            pass\n",
    "\n",
    "    for i in range(val_df.shape[0]):\n",
    "        try:\n",
    "            ex = data.Example.fromlist([val_df.question[i], val_df.solution[i]], fields)\n",
    "            val_example.append(ex)\n",
    "        except:\n",
    "            pass       \n",
    "\n",
    "    train_data = data.Dataset(train_example, fields)\n",
    "    valid_data = data.Dataset(val_example, fields)\n",
    "\n",
    "    BATCH_SIZE = 16\n",
    "    train_iterator, valid_iterator = BucketIterator.splits((train_data, valid_data), batch_size = BATCH_SIZE, sort_key = lambda x: len(x.Input), sort_within_batch=True, device = device)\n",
    "\n",
    "    train_loss = train(model, train_iterator, optimizer, criterion, CLIP)\n",
    "    valid_loss = evaluate(model, valid_iterator, criterion)\n",
    "    \n",
    "    end_time = time.time()\n",
    "    \n",
    "    epoch_mins, epoch_secs = epoch_time(start_time, end_time)\n",
    "    \n",
    "    if valid_loss < best_valid_loss:\n",
    "        best_valid_loss = valid_loss\n",
    "        torch.save(model.state_dict(), 'saved/model.pt')\n",
    "    \n",
    "    print(f'Epoch: {epoch+1:02} | Time: {epoch_mins}m {epoch_secs}s')\n",
    "    print(f'\\tTrain Loss: {train_loss:.3f}')\n",
    "    print(f'\\t Val. Loss: {valid_loss:.3f}')"
   ]
  }
 ],
 "metadata": {
  "kernelspec": {
   "display_name": ".venv",
   "language": "python",
   "name": "python3"
  },
  "language_info": {
   "codemirror_mode": {
    "name": "ipython",
    "version": 3
   },
   "file_extension": ".py",
   "mimetype": "text/x-python",
   "name": "python",
   "nbconvert_exporter": "python",
   "pygments_lexer": "ipython3",
   "version": "3.9.0"
  },
  "orig_nbformat": 4
 },
 "nbformat": 4,
 "nbformat_minor": 2
}
